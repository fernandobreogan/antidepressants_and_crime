{
 "cells": [
  {
   "cell_type": "markdown",
   "id": "mathematical-serum",
   "metadata": {},
   "source": [
    " # <center> 2nd goal: obtain the list of songs and artists from Spotify API </center>"
   ]
  },
  {
   "cell_type": "markdown",
   "id": "deluxe-outside",
   "metadata": {},
   "source": [
    "### 0. Imports"
   ]
  },
  {
   "cell_type": "code",
   "execution_count": 1,
   "id": "silver-offer",
   "metadata": {},
   "outputs": [
    {
     "name": "stderr",
     "output_type": "stream",
     "text": [
      "Python-dotenv could not parse statement starting at line 4\n"
     ]
    },
    {
     "data": {
      "text/plain": [
       "True"
      ]
     },
     "execution_count": 1,
     "metadata": {},
     "output_type": "execute_result"
    }
   ],
   "source": [
    "import pandas as pd\n",
    "import os\n",
    "import json\n",
    "import requests\n",
    "from dotenv import load_dotenv\n",
    "load_dotenv()"
   ]
  },
  {
   "cell_type": "markdown",
   "id": "reverse-custom",
   "metadata": {},
   "source": [
    "## 1. Documentation"
   ]
  },
  {
   "cell_type": "markdown",
   "id": "expanded-drove",
   "metadata": {},
   "source": [
    "https://developer.spotify.com/console/"
   ]
  },
  {
   "cell_type": "markdown",
   "id": "quick-action",
   "metadata": {},
   "source": [
    "## 2. API calls"
   ]
  },
  {
   "cell_type": "markdown",
   "id": "widespread-conservative",
   "metadata": {},
   "source": [
    "### 2.1. Authentication"
   ]
  },
  {
   "cell_type": "code",
   "execution_count": 2,
   "id": "southern-decrease",
   "metadata": {},
   "outputs": [],
   "source": [
    "token = os.getenv(\"token\")"
   ]
  },
  {
   "cell_type": "code",
   "execution_count": 3,
   "id": "lesbian-reynolds",
   "metadata": {},
   "outputs": [],
   "source": [
    "headers = {\n",
    "    'Authorization': f'Bearer {token}'\n",
    "}"
   ]
  },
  {
   "cell_type": "markdown",
   "id": "sorted-accessory",
   "metadata": {},
   "source": [
    "### 2.2. Actual call: step by step"
   ]
  },
  {
   "cell_type": "markdown",
   "id": "filled-support",
   "metadata": {},
   "source": [
    "`request.get(url, headers)`"
   ]
  },
  {
   "cell_type": "code",
   "execution_count": 4,
   "id": "practical-pressure",
   "metadata": {},
   "outputs": [],
   "source": [
    "url_base = \"https://api.spotify.com/v1/\""
   ]
  },
  {
   "cell_type": "code",
   "execution_count": 5,
   "id": "intended-investigation",
   "metadata": {},
   "outputs": [],
   "source": [
    "playlist_id = \"4UbChG0JiHRFrwjvQvG2LJ\""
   ]
  },
  {
   "cell_type": "code",
   "execution_count": 6,
   "id": "active-opinion",
   "metadata": {},
   "outputs": [],
   "source": [
    "endpoint = f\"playlists/{playlist_id}\""
   ]
  },
  {
   "cell_type": "code",
   "execution_count": 7,
   "id": "primary-advance",
   "metadata": {},
   "outputs": [],
   "source": [
    "query = url_base + endpoint"
   ]
  },
  {
   "cell_type": "code",
   "execution_count": 8,
   "id": "small-accreditation",
   "metadata": {},
   "outputs": [],
   "source": [
    "req = requests.get(query, headers = headers)"
   ]
  },
  {
   "cell_type": "code",
   "execution_count": 9,
   "id": "minus-steering",
   "metadata": {},
   "outputs": [],
   "source": [
    "response = req.json()"
   ]
  },
  {
   "cell_type": "code",
   "execution_count": null,
   "id": "horizontal-classification",
   "metadata": {},
   "outputs": [],
   "source": [
    "# All the information\n",
    "\n",
    "response"
   ]
  },
  {
   "cell_type": "markdown",
   "id": "turkish-shelf",
   "metadata": {},
   "source": [
    "### 2.3. Processing the whole response"
   ]
  },
  {
   "cell_type": "markdown",
   "id": "fresh-forty",
   "metadata": {},
   "source": [
    "#### 2.3.1. Songs"
   ]
  },
  {
   "cell_type": "code",
   "execution_count": null,
   "id": "norman-hazard",
   "metadata": {},
   "outputs": [],
   "source": [
    "# Navigating to get just the SONGS\n",
    "\n",
    "cada_cancion = response['tracks']['items']\n",
    "cada_cancion[0]"
   ]
  },
  {
   "cell_type": "code",
   "execution_count": 12,
   "id": "indie-induction",
   "metadata": {},
   "outputs": [],
   "source": [
    "lista_canciones = []\n",
    "\n",
    "for i in range(len(cada_cancion)):\n",
    "    \n",
    "    nombre = cada_cancion[i]['track']['name']\n",
    "    lista_canciones.append(nombre)"
   ]
  },
  {
   "cell_type": "code",
   "execution_count": 13,
   "id": "retained-agriculture",
   "metadata": {},
   "outputs": [
    {
     "data": {
      "text/plain": [
       "['Mi danza (feat. Dani de Morón)',\n",
       " 'MERICHANE',\n",
       " 'Olaf el vikingo',\n",
       " 'So So',\n",
       " 'WTF Is In My Cup',\n",
       " 'Algorithm',\n",
       " 'Ca plane pour moi',\n",
       " 'Fantasya',\n",
       " '1996',\n",
       " 'Kuzola',\n",
       " 'Tiburon',\n",
       " 'Dance With Me',\n",
       " 'Spinnerei',\n",
       " 'Home',\n",
       " 'Where Is My Mind? - Remastered',\n",
       " 'René',\n",
       " 'Okashi',\n",
       " \"Mumma Don't Tell - Faltydl Remix\",\n",
       " 'Multi-Love',\n",
       " \"Nothing's Gonna Hurt You Baby\",\n",
       " 'Giddy On The Ciggies',\n",
       " 'Affection',\n",
       " 'A Festa',\n",
       " 'Child',\n",
       " 'Grey',\n",
       " 'Alright',\n",
       " 'Odd Look',\n",
       " 'Nightcall',\n",
       " 'La Bomba',\n",
       " 'Mi Carro',\n",
       " 'Jolie Coquine',\n",
       " 'Hip Hop ?',\n",
       " 'Phone Numbers',\n",
       " 'Nothing Else Matters',\n",
       " 'Lo más bonito del mundo',\n",
       " 'Love Letters to God',\n",
       " 'Looped',\n",
       " 'The Trooper',\n",
       " 'The Chain - 2004 Remaster',\n",
       " 'My Sweet Lord / Today Is a Killer - Remastered',\n",
       " 'Glory Box',\n",
       " 'Eden (Waveshaper Remix) - Instrumental']"
      ]
     },
     "execution_count": 13,
     "metadata": {},
     "output_type": "execute_result"
    }
   ],
   "source": [
    "lista_canciones"
   ]
  },
  {
   "cell_type": "markdown",
   "id": "joined-blind",
   "metadata": {},
   "source": [
    "#### 2.3.2. Artists"
   ]
  },
  {
   "cell_type": "code",
   "execution_count": 14,
   "id": "accomplished-upgrade",
   "metadata": {},
   "outputs": [
    {
     "data": {
      "text/plain": [
       "['Fuel Fandango',\n",
       " 'Zahara',\n",
       " 'LOS NIKIS',\n",
       " 'Rusowsky',\n",
       " 'Chico Blanco',\n",
       " 'Muse',\n",
       " 'Plastic Bertrand',\n",
       " 'Pedro LaDroga',\n",
       " 'InnerCut',\n",
       " 'Pongo',\n",
       " 'Proyecto Uno',\n",
       " 'Deux',\n",
       " 'Planet Caravan',\n",
       " 'Edward Sharpe & The Magnetic Zeros',\n",
       " 'Pixies',\n",
       " 'Residente',\n",
       " 'Charlotte Adigéry',\n",
       " 'Leifur James',\n",
       " 'Unknown Mortal Orchestra',\n",
       " 'Cigarettes After Sex',\n",
       " 'Sleaford Mods',\n",
       " 'Cigarettes After Sex',\n",
       " 'Trüby Trio',\n",
       " 'B77',\n",
       " 'Kölsch',\n",
       " 'KYTES',\n",
       " 'Kavinsky',\n",
       " 'Kavinsky',\n",
       " 'King Africa',\n",
       " 'Manolo Escobar',\n",
       " 'Caravan Palace',\n",
       " 'Hocus Pocus',\n",
       " 'Dominic Fike',\n",
       " 'Metallica',\n",
       " 'Delafé',\n",
       " 'Nahko And Medicine For The People',\n",
       " 'Kiasmos',\n",
       " 'Steve ´n´ Seagulls',\n",
       " 'Fleetwood Mac',\n",
       " 'Nina Simone',\n",
       " 'Portishead',\n",
       " 'Scandroid']"
      ]
     },
     "execution_count": 14,
     "metadata": {},
     "output_type": "execute_result"
    }
   ],
   "source": [
    "# Navigating to get just the ARTISTS\n",
    "\n",
    "lista_artistas = []\n",
    "\n",
    "for i in range(len(cada_cancion)):\n",
    "    \n",
    "    artista = cada_cancion[i]['track']['artists'][0]['name']\n",
    "    lista_artistas.append(artista)\n",
    "lista_artistas"
   ]
  },
  {
   "cell_type": "markdown",
   "id": "vulnerable-flexibility",
   "metadata": {},
   "source": [
    "#### 2.3.3. Users"
   ]
  },
  {
   "cell_type": "code",
   "execution_count": 15,
   "id": "synthetic-vaccine",
   "metadata": {},
   "outputs": [
    {
     "data": {
      "text/plain": [
       "['soyungalgo',\n",
       " 'soyungalgo',\n",
       " 'toni085',\n",
       " 'ferqwertyuiop',\n",
       " '1182774545',\n",
       " 'toni085',\n",
       " 'copia002',\n",
       " 'soyungalgo',\n",
       " 'soyungalgo',\n",
       " '1182774545',\n",
       " 'toni085',\n",
       " '1182774545',\n",
       " '1182774545',\n",
       " '1182774545',\n",
       " '1182774545',\n",
       " '1182774545',\n",
       " '1182774545',\n",
       " '1182774545',\n",
       " '1182774545',\n",
       " '1182774545',\n",
       " '1182774545',\n",
       " '1182774545',\n",
       " '1182774545',\n",
       " '1182774545',\n",
       " '1182774545',\n",
       " 'ferqwertyuiop',\n",
       " '1182774545',\n",
       " 'toni085',\n",
       " 'toni085',\n",
       " 'toni085',\n",
       " 'toni085',\n",
       " 'ferqwertyuiop',\n",
       " 'ferqwertyuiop',\n",
       " 'toni085',\n",
       " 'soyungalgo',\n",
       " '1183037273',\n",
       " 'pecmusasana',\n",
       " '1183037273',\n",
       " 'toni085',\n",
       " 'pecmusasana',\n",
       " '1182774545',\n",
       " 'toni085']"
      ]
     },
     "execution_count": 15,
     "metadata": {},
     "output_type": "execute_result"
    }
   ],
   "source": [
    "lista_usuarios = []\n",
    "\n",
    "for i in range(len(cada_cancion)):\n",
    "    \n",
    "    usuario = cada_cancion[i]['added_by']['id']\n",
    "    lista_usuarios.append(usuario)\n",
    "lista_usuarios"
   ]
  },
  {
   "cell_type": "markdown",
   "id": "technological-lighting",
   "metadata": {},
   "source": [
    "#### 2.3.4. All together now"
   ]
  },
  {
   "cell_type": "code",
   "execution_count": 16,
   "id": "strategic-discrimination",
   "metadata": {},
   "outputs": [
    {
     "data": {
      "text/plain": [
       "[('Mi danza (feat. Dani de Morón)', 'Fuel Fandango', 'soyungalgo'),\n",
       " ('MERICHANE', 'Zahara', 'soyungalgo'),\n",
       " ('Olaf el vikingo', 'LOS NIKIS', 'toni085'),\n",
       " ('So So', 'Rusowsky', 'ferqwertyuiop'),\n",
       " ('WTF Is In My Cup', 'Chico Blanco', '1182774545'),\n",
       " ('Algorithm', 'Muse', 'toni085'),\n",
       " ('Ca plane pour moi', 'Plastic Bertrand', 'copia002'),\n",
       " ('Fantasya', 'Pedro LaDroga', 'soyungalgo'),\n",
       " ('1996', 'InnerCut', 'soyungalgo'),\n",
       " ('Kuzola', 'Pongo', '1182774545'),\n",
       " ('Tiburon', 'Proyecto Uno', 'toni085'),\n",
       " ('Dance With Me', 'Deux', '1182774545'),\n",
       " ('Spinnerei', 'Planet Caravan', '1182774545'),\n",
       " ('Home', 'Edward Sharpe & The Magnetic Zeros', '1182774545'),\n",
       " ('Where Is My Mind? - Remastered', 'Pixies', '1182774545'),\n",
       " ('René', 'Residente', '1182774545'),\n",
       " ('Okashi', 'Charlotte Adigéry', '1182774545'),\n",
       " (\"Mumma Don't Tell - Faltydl Remix\", 'Leifur James', '1182774545'),\n",
       " ('Multi-Love', 'Unknown Mortal Orchestra', '1182774545'),\n",
       " (\"Nothing's Gonna Hurt You Baby\", 'Cigarettes After Sex', '1182774545'),\n",
       " ('Giddy On The Ciggies', 'Sleaford Mods', '1182774545'),\n",
       " ('Affection', 'Cigarettes After Sex', '1182774545'),\n",
       " ('A Festa', 'Trüby Trio', '1182774545'),\n",
       " ('Child', 'B77', '1182774545'),\n",
       " ('Grey', 'Kölsch', '1182774545'),\n",
       " ('Alright', 'KYTES', 'ferqwertyuiop'),\n",
       " ('Odd Look', 'Kavinsky', '1182774545'),\n",
       " ('Nightcall', 'Kavinsky', 'toni085'),\n",
       " ('La Bomba', 'King Africa', 'toni085'),\n",
       " ('Mi Carro', 'Manolo Escobar', 'toni085'),\n",
       " ('Jolie Coquine', 'Caravan Palace', 'toni085'),\n",
       " ('Hip Hop ?', 'Hocus Pocus', 'ferqwertyuiop'),\n",
       " ('Phone Numbers', 'Dominic Fike', 'ferqwertyuiop'),\n",
       " ('Nothing Else Matters', 'Metallica', 'toni085'),\n",
       " ('Lo más bonito del mundo', 'Delafé', 'soyungalgo'),\n",
       " ('Love Letters to God', 'Nahko And Medicine For The People', '1183037273'),\n",
       " ('Looped', 'Kiasmos', 'pecmusasana'),\n",
       " ('The Trooper', 'Steve ´n´ Seagulls', '1183037273'),\n",
       " ('The Chain - 2004 Remaster', 'Fleetwood Mac', 'toni085'),\n",
       " ('My Sweet Lord / Today Is a Killer - Remastered',\n",
       "  'Nina Simone',\n",
       "  'pecmusasana'),\n",
       " ('Glory Box', 'Portishead', '1182774545'),\n",
       " ('Eden (Waveshaper Remix) - Instrumental', 'Scandroid', 'toni085')]"
      ]
     },
     "execution_count": 16,
     "metadata": {},
     "output_type": "execute_result"
    }
   ],
   "source": [
    "lista_entera = []\n",
    "\n",
    "for i in range(len(cada_cancion)):\n",
    "    \n",
    "    nombre = cada_cancion[i]['track']['name']\n",
    "    artista = cada_cancion[i]['track']['artists'][0]['name']\n",
    "    usuario = cada_cancion[i]['added_by']['id']\n",
    "\n",
    "    lista_entera.append((nombre, artista, usuario))\n",
    "lista_entera"
   ]
  },
  {
   "cell_type": "markdown",
   "id": "dependent-limit",
   "metadata": {},
   "source": [
    "### 2.3. API call but now in a function"
   ]
  },
  {
   "cell_type": "markdown",
   "id": "furnished-milton",
   "metadata": {},
   "source": [
    "#### 2.3.1. Function to get everything from the API"
   ]
  },
  {
   "cell_type": "code",
   "execution_count": 17,
   "id": "mental-circumstances",
   "metadata": {},
   "outputs": [],
   "source": [
    "def spotifyPlaylist (playlist_id):\n",
    "    '''This will return the info of a given spotify playlist.\n",
    "    Args: playlist_id as a string\n",
    "    Returns: json'''\n",
    "    \n",
    "    token = os.getenv(\"token\")\n",
    "    headers = {\n",
    "    'Authorization': f'Bearer {token}'\n",
    "}\n",
    "    \n",
    "    #To do: add error handling and generate a new token if it doesn't work\n",
    "    #1. Importar la función de generación de token\n",
    "    #2. Sustituir el token en caso de que ya exista\n",
    "    \n",
    "    url_base = \"https://api.spotify.com/v1/\"\n",
    "    endpoint = f\"playlists/{playlist_id}\"\n",
    "    query = url_base + endpoint\n",
    "    lista = requests.get(query, headers = headers)\n",
    "    \n",
    "    return lista.json()"
   ]
  },
  {
   "cell_type": "code",
   "execution_count": null,
   "id": "indonesian-press",
   "metadata": {},
   "outputs": [],
   "source": [
    "spotifyPlaylist(\"4UbChG0JiHRFrwjvQvG2LJ\")"
   ]
  },
  {
   "cell_type": "markdown",
   "id": "bigger-excuse",
   "metadata": {},
   "source": [
    "#### 2.3.2. Function to get what we want from the response"
   ]
  },
  {
   "cell_type": "code",
   "execution_count": 19,
   "id": "incomplete-dayton",
   "metadata": {},
   "outputs": [],
   "source": [
    "def getUserSongArtist(playlist_id):\n",
    "    \n",
    "    lista = spotifyPlaylist(playlist_id)\n",
    "    lista_entera = []\n",
    "\n",
    "    for i in range(len(cada_cancion)):\n",
    "        usuario = cada_cancion[i]['added_by']['id']\n",
    "        nombre = cada_cancion[i]['track']['name']\n",
    "        artista = cada_cancion[i]['track']['artists'][0]['name']\n",
    "        \n",
    "        lista_entera.append((usuario, nombre, artista))\n",
    "    \n",
    "    return lista_entera"
   ]
  },
  {
   "cell_type": "code",
   "execution_count": 20,
   "id": "assumed-observation",
   "metadata": {},
   "outputs": [
    {
     "data": {
      "text/plain": [
       "[('soyungalgo', 'Mi danza (feat. Dani de Morón)', 'Fuel Fandango'),\n",
       " ('soyungalgo', 'MERICHANE', 'Zahara'),\n",
       " ('toni085', 'Olaf el vikingo', 'LOS NIKIS'),\n",
       " ('ferqwertyuiop', 'So So', 'Rusowsky'),\n",
       " ('1182774545', 'WTF Is In My Cup', 'Chico Blanco'),\n",
       " ('toni085', 'Algorithm', 'Muse'),\n",
       " ('copia002', 'Ca plane pour moi', 'Plastic Bertrand'),\n",
       " ('soyungalgo', 'Fantasya', 'Pedro LaDroga'),\n",
       " ('soyungalgo', '1996', 'InnerCut'),\n",
       " ('1182774545', 'Kuzola', 'Pongo'),\n",
       " ('toni085', 'Tiburon', 'Proyecto Uno'),\n",
       " ('1182774545', 'Dance With Me', 'Deux'),\n",
       " ('1182774545', 'Spinnerei', 'Planet Caravan'),\n",
       " ('1182774545', 'Home', 'Edward Sharpe & The Magnetic Zeros'),\n",
       " ('1182774545', 'Where Is My Mind? - Remastered', 'Pixies'),\n",
       " ('1182774545', 'René', 'Residente'),\n",
       " ('1182774545', 'Okashi', 'Charlotte Adigéry'),\n",
       " ('1182774545', \"Mumma Don't Tell - Faltydl Remix\", 'Leifur James'),\n",
       " ('1182774545', 'Multi-Love', 'Unknown Mortal Orchestra'),\n",
       " ('1182774545', \"Nothing's Gonna Hurt You Baby\", 'Cigarettes After Sex'),\n",
       " ('1182774545', 'Giddy On The Ciggies', 'Sleaford Mods'),\n",
       " ('1182774545', 'Affection', 'Cigarettes After Sex'),\n",
       " ('1182774545', 'A Festa', 'Trüby Trio'),\n",
       " ('1182774545', 'Child', 'B77'),\n",
       " ('1182774545', 'Grey', 'Kölsch'),\n",
       " ('ferqwertyuiop', 'Alright', 'KYTES'),\n",
       " ('1182774545', 'Odd Look', 'Kavinsky'),\n",
       " ('toni085', 'Nightcall', 'Kavinsky'),\n",
       " ('toni085', 'La Bomba', 'King Africa'),\n",
       " ('toni085', 'Mi Carro', 'Manolo Escobar'),\n",
       " ('toni085', 'Jolie Coquine', 'Caravan Palace'),\n",
       " ('ferqwertyuiop', 'Hip Hop ?', 'Hocus Pocus'),\n",
       " ('ferqwertyuiop', 'Phone Numbers', 'Dominic Fike'),\n",
       " ('toni085', 'Nothing Else Matters', 'Metallica'),\n",
       " ('soyungalgo', 'Lo más bonito del mundo', 'Delafé'),\n",
       " ('1183037273', 'Love Letters to God', 'Nahko And Medicine For The People'),\n",
       " ('pecmusasana', 'Looped', 'Kiasmos'),\n",
       " ('1183037273', 'The Trooper', 'Steve ´n´ Seagulls'),\n",
       " ('toni085', 'The Chain - 2004 Remaster', 'Fleetwood Mac'),\n",
       " ('pecmusasana',\n",
       "  'My Sweet Lord / Today Is a Killer - Remastered',\n",
       "  'Nina Simone'),\n",
       " ('1182774545', 'Glory Box', 'Portishead'),\n",
       " ('toni085', 'Eden (Waveshaper Remix) - Instrumental', 'Scandroid')]"
      ]
     },
     "execution_count": 20,
     "metadata": {},
     "output_type": "execute_result"
    }
   ],
   "source": [
    "getUserSongArtist(\"4UbChG0JiHRFrwjvQvG2LJ\")"
   ]
  },
  {
   "cell_type": "code",
   "execution_count": 21,
   "id": "aquatic-criterion",
   "metadata": {},
   "outputs": [],
   "source": [
    "todo = getUserSongArtist(\"4UbChG0JiHRFrwjvQvG2LJ\")"
   ]
  },
  {
   "cell_type": "markdown",
   "id": "turkish-finland",
   "metadata": {},
   "source": [
    "## 3. Now it's a dataframe"
   ]
  },
  {
   "cell_type": "code",
   "execution_count": 22,
   "id": "amended-honey",
   "metadata": {},
   "outputs": [
    {
     "data": {
      "text/html": [
       "<div>\n",
       "<style scoped>\n",
       "    .dataframe tbody tr th:only-of-type {\n",
       "        vertical-align: middle;\n",
       "    }\n",
       "\n",
       "    .dataframe tbody tr th {\n",
       "        vertical-align: top;\n",
       "    }\n",
       "\n",
       "    .dataframe thead th {\n",
       "        text-align: right;\n",
       "    }\n",
       "</style>\n",
       "<table border=\"1\" class=\"dataframe\">\n",
       "  <thead>\n",
       "    <tr style=\"text-align: right;\">\n",
       "      <th></th>\n",
       "      <th>0</th>\n",
       "      <th>1</th>\n",
       "      <th>2</th>\n",
       "    </tr>\n",
       "  </thead>\n",
       "  <tbody>\n",
       "    <tr>\n",
       "      <th>0</th>\n",
       "      <td>soyungalgo</td>\n",
       "      <td>Mi danza (feat. Dani de Morón)</td>\n",
       "      <td>Fuel Fandango</td>\n",
       "    </tr>\n",
       "    <tr>\n",
       "      <th>1</th>\n",
       "      <td>soyungalgo</td>\n",
       "      <td>MERICHANE</td>\n",
       "      <td>Zahara</td>\n",
       "    </tr>\n",
       "    <tr>\n",
       "      <th>2</th>\n",
       "      <td>toni085</td>\n",
       "      <td>Olaf el vikingo</td>\n",
       "      <td>LOS NIKIS</td>\n",
       "    </tr>\n",
       "    <tr>\n",
       "      <th>3</th>\n",
       "      <td>ferqwertyuiop</td>\n",
       "      <td>So So</td>\n",
       "      <td>Rusowsky</td>\n",
       "    </tr>\n",
       "    <tr>\n",
       "      <th>4</th>\n",
       "      <td>1182774545</td>\n",
       "      <td>WTF Is In My Cup</td>\n",
       "      <td>Chico Blanco</td>\n",
       "    </tr>\n",
       "  </tbody>\n",
       "</table>\n",
       "</div>"
      ],
      "text/plain": [
       "               0                               1              2\n",
       "0     soyungalgo  Mi danza (feat. Dani de Morón)  Fuel Fandango\n",
       "1     soyungalgo                       MERICHANE         Zahara\n",
       "2        toni085                 Olaf el vikingo      LOS NIKIS\n",
       "3  ferqwertyuiop                           So So       Rusowsky\n",
       "4     1182774545                WTF Is In My Cup   Chico Blanco"
      ]
     },
     "execution_count": 22,
     "metadata": {},
     "output_type": "execute_result"
    }
   ],
   "source": [
    "playlist = pd.DataFrame(todo)\n",
    "playlist.head()"
   ]
  },
  {
   "cell_type": "code",
   "execution_count": 28,
   "id": "fifteen-ecology",
   "metadata": {},
   "outputs": [
    {
     "data": {
      "text/html": [
       "<div>\n",
       "<style scoped>\n",
       "    .dataframe tbody tr th:only-of-type {\n",
       "        vertical-align: middle;\n",
       "    }\n",
       "\n",
       "    .dataframe tbody tr th {\n",
       "        vertical-align: top;\n",
       "    }\n",
       "\n",
       "    .dataframe thead th {\n",
       "        text-align: right;\n",
       "    }\n",
       "</style>\n",
       "<table border=\"1\" class=\"dataframe\">\n",
       "  <thead>\n",
       "    <tr style=\"text-align: right;\">\n",
       "      <th></th>\n",
       "      <th>0</th>\n",
       "      <th>1</th>\n",
       "      <th>2</th>\n",
       "    </tr>\n",
       "  </thead>\n",
       "  <tbody>\n",
       "    <tr>\n",
       "      <th>0</th>\n",
       "      <td>soyungalgo</td>\n",
       "      <td>Mi danza (feat. Dani de Morón)</td>\n",
       "      <td>Fuel Fandango</td>\n",
       "    </tr>\n",
       "    <tr>\n",
       "      <th>1</th>\n",
       "      <td>soyungalgo</td>\n",
       "      <td>MERICHANE</td>\n",
       "      <td>Zahara</td>\n",
       "    </tr>\n",
       "    <tr>\n",
       "      <th>2</th>\n",
       "      <td>toni085</td>\n",
       "      <td>Olaf el vikingo</td>\n",
       "      <td>LOS NIKIS</td>\n",
       "    </tr>\n",
       "    <tr>\n",
       "      <th>3</th>\n",
       "      <td>ferqwertyuiop</td>\n",
       "      <td>So So</td>\n",
       "      <td>Rusowsky</td>\n",
       "    </tr>\n",
       "    <tr>\n",
       "      <th>4</th>\n",
       "      <td>1182774545</td>\n",
       "      <td>WTF Is In My Cup</td>\n",
       "      <td>Chico Blanco</td>\n",
       "    </tr>\n",
       "  </tbody>\n",
       "</table>\n",
       "</div>"
      ],
      "text/plain": [
       "               0                               1              2\n",
       "0     soyungalgo  Mi danza (feat. Dani de Morón)  Fuel Fandango\n",
       "1     soyungalgo                       MERICHANE         Zahara\n",
       "2        toni085                 Olaf el vikingo      LOS NIKIS\n",
       "3  ferqwertyuiop                           So So       Rusowsky\n",
       "4     1182774545                WTF Is In My Cup   Chico Blanco"
      ]
     },
     "execution_count": 28,
     "metadata": {},
     "output_type": "execute_result"
    }
   ],
   "source": [
    "playlist.head()"
   ]
  },
  {
   "cell_type": "code",
   "execution_count": 29,
   "id": "entertaining-nutrition",
   "metadata": {},
   "outputs": [],
   "source": [
    "playlist.columns = [\"ironhacker\", \"song\", \"artist\"]"
   ]
  },
  {
   "cell_type": "code",
   "execution_count": 30,
   "id": "sweet-romantic",
   "metadata": {},
   "outputs": [
    {
     "data": {
      "text/html": [
       "<div>\n",
       "<style scoped>\n",
       "    .dataframe tbody tr th:only-of-type {\n",
       "        vertical-align: middle;\n",
       "    }\n",
       "\n",
       "    .dataframe tbody tr th {\n",
       "        vertical-align: top;\n",
       "    }\n",
       "\n",
       "    .dataframe thead th {\n",
       "        text-align: right;\n",
       "    }\n",
       "</style>\n",
       "<table border=\"1\" class=\"dataframe\">\n",
       "  <thead>\n",
       "    <tr style=\"text-align: right;\">\n",
       "      <th></th>\n",
       "      <th>ironhacker</th>\n",
       "      <th>song</th>\n",
       "      <th>artist</th>\n",
       "    </tr>\n",
       "  </thead>\n",
       "  <tbody>\n",
       "    <tr>\n",
       "      <th>0</th>\n",
       "      <td>soyungalgo</td>\n",
       "      <td>Mi danza (feat. Dani de Morón)</td>\n",
       "      <td>Fuel Fandango</td>\n",
       "    </tr>\n",
       "    <tr>\n",
       "      <th>1</th>\n",
       "      <td>soyungalgo</td>\n",
       "      <td>MERICHANE</td>\n",
       "      <td>Zahara</td>\n",
       "    </tr>\n",
       "    <tr>\n",
       "      <th>2</th>\n",
       "      <td>toni085</td>\n",
       "      <td>Olaf el vikingo</td>\n",
       "      <td>LOS NIKIS</td>\n",
       "    </tr>\n",
       "    <tr>\n",
       "      <th>3</th>\n",
       "      <td>ferqwertyuiop</td>\n",
       "      <td>So So</td>\n",
       "      <td>Rusowsky</td>\n",
       "    </tr>\n",
       "    <tr>\n",
       "      <th>4</th>\n",
       "      <td>1182774545</td>\n",
       "      <td>WTF Is In My Cup</td>\n",
       "      <td>Chico Blanco</td>\n",
       "    </tr>\n",
       "    <tr>\n",
       "      <th>5</th>\n",
       "      <td>toni085</td>\n",
       "      <td>Algorithm</td>\n",
       "      <td>Muse</td>\n",
       "    </tr>\n",
       "    <tr>\n",
       "      <th>6</th>\n",
       "      <td>copia002</td>\n",
       "      <td>Ca plane pour moi</td>\n",
       "      <td>Plastic Bertrand</td>\n",
       "    </tr>\n",
       "    <tr>\n",
       "      <th>7</th>\n",
       "      <td>soyungalgo</td>\n",
       "      <td>Fantasya</td>\n",
       "      <td>Pedro LaDroga</td>\n",
       "    </tr>\n",
       "    <tr>\n",
       "      <th>8</th>\n",
       "      <td>soyungalgo</td>\n",
       "      <td>1996</td>\n",
       "      <td>InnerCut</td>\n",
       "    </tr>\n",
       "    <tr>\n",
       "      <th>9</th>\n",
       "      <td>1182774545</td>\n",
       "      <td>Kuzola</td>\n",
       "      <td>Pongo</td>\n",
       "    </tr>\n",
       "    <tr>\n",
       "      <th>10</th>\n",
       "      <td>toni085</td>\n",
       "      <td>Tiburon</td>\n",
       "      <td>Proyecto Uno</td>\n",
       "    </tr>\n",
       "    <tr>\n",
       "      <th>11</th>\n",
       "      <td>1182774545</td>\n",
       "      <td>Dance With Me</td>\n",
       "      <td>Deux</td>\n",
       "    </tr>\n",
       "    <tr>\n",
       "      <th>12</th>\n",
       "      <td>1182774545</td>\n",
       "      <td>Spinnerei</td>\n",
       "      <td>Planet Caravan</td>\n",
       "    </tr>\n",
       "    <tr>\n",
       "      <th>13</th>\n",
       "      <td>1182774545</td>\n",
       "      <td>Home</td>\n",
       "      <td>Edward Sharpe &amp; The Magnetic Zeros</td>\n",
       "    </tr>\n",
       "    <tr>\n",
       "      <th>14</th>\n",
       "      <td>1182774545</td>\n",
       "      <td>Where Is My Mind? - Remastered</td>\n",
       "      <td>Pixies</td>\n",
       "    </tr>\n",
       "    <tr>\n",
       "      <th>15</th>\n",
       "      <td>1182774545</td>\n",
       "      <td>René</td>\n",
       "      <td>Residente</td>\n",
       "    </tr>\n",
       "    <tr>\n",
       "      <th>16</th>\n",
       "      <td>1182774545</td>\n",
       "      <td>Okashi</td>\n",
       "      <td>Charlotte Adigéry</td>\n",
       "    </tr>\n",
       "    <tr>\n",
       "      <th>17</th>\n",
       "      <td>1182774545</td>\n",
       "      <td>Mumma Don't Tell - Faltydl Remix</td>\n",
       "      <td>Leifur James</td>\n",
       "    </tr>\n",
       "    <tr>\n",
       "      <th>18</th>\n",
       "      <td>1182774545</td>\n",
       "      <td>Multi-Love</td>\n",
       "      <td>Unknown Mortal Orchestra</td>\n",
       "    </tr>\n",
       "    <tr>\n",
       "      <th>19</th>\n",
       "      <td>1182774545</td>\n",
       "      <td>Nothing's Gonna Hurt You Baby</td>\n",
       "      <td>Cigarettes After Sex</td>\n",
       "    </tr>\n",
       "    <tr>\n",
       "      <th>20</th>\n",
       "      <td>1182774545</td>\n",
       "      <td>Giddy On The Ciggies</td>\n",
       "      <td>Sleaford Mods</td>\n",
       "    </tr>\n",
       "    <tr>\n",
       "      <th>21</th>\n",
       "      <td>1182774545</td>\n",
       "      <td>Affection</td>\n",
       "      <td>Cigarettes After Sex</td>\n",
       "    </tr>\n",
       "    <tr>\n",
       "      <th>22</th>\n",
       "      <td>1182774545</td>\n",
       "      <td>A Festa</td>\n",
       "      <td>Trüby Trio</td>\n",
       "    </tr>\n",
       "    <tr>\n",
       "      <th>23</th>\n",
       "      <td>1182774545</td>\n",
       "      <td>Child</td>\n",
       "      <td>B77</td>\n",
       "    </tr>\n",
       "    <tr>\n",
       "      <th>24</th>\n",
       "      <td>1182774545</td>\n",
       "      <td>Grey</td>\n",
       "      <td>Kölsch</td>\n",
       "    </tr>\n",
       "    <tr>\n",
       "      <th>25</th>\n",
       "      <td>ferqwertyuiop</td>\n",
       "      <td>Alright</td>\n",
       "      <td>KYTES</td>\n",
       "    </tr>\n",
       "    <tr>\n",
       "      <th>26</th>\n",
       "      <td>1182774545</td>\n",
       "      <td>Odd Look</td>\n",
       "      <td>Kavinsky</td>\n",
       "    </tr>\n",
       "    <tr>\n",
       "      <th>27</th>\n",
       "      <td>toni085</td>\n",
       "      <td>Nightcall</td>\n",
       "      <td>Kavinsky</td>\n",
       "    </tr>\n",
       "    <tr>\n",
       "      <th>28</th>\n",
       "      <td>toni085</td>\n",
       "      <td>La Bomba</td>\n",
       "      <td>King Africa</td>\n",
       "    </tr>\n",
       "    <tr>\n",
       "      <th>29</th>\n",
       "      <td>toni085</td>\n",
       "      <td>Mi Carro</td>\n",
       "      <td>Manolo Escobar</td>\n",
       "    </tr>\n",
       "    <tr>\n",
       "      <th>30</th>\n",
       "      <td>toni085</td>\n",
       "      <td>Jolie Coquine</td>\n",
       "      <td>Caravan Palace</td>\n",
       "    </tr>\n",
       "    <tr>\n",
       "      <th>31</th>\n",
       "      <td>ferqwertyuiop</td>\n",
       "      <td>Hip Hop ?</td>\n",
       "      <td>Hocus Pocus</td>\n",
       "    </tr>\n",
       "    <tr>\n",
       "      <th>32</th>\n",
       "      <td>ferqwertyuiop</td>\n",
       "      <td>Phone Numbers</td>\n",
       "      <td>Dominic Fike</td>\n",
       "    </tr>\n",
       "    <tr>\n",
       "      <th>33</th>\n",
       "      <td>toni085</td>\n",
       "      <td>Nothing Else Matters</td>\n",
       "      <td>Metallica</td>\n",
       "    </tr>\n",
       "    <tr>\n",
       "      <th>34</th>\n",
       "      <td>soyungalgo</td>\n",
       "      <td>Lo más bonito del mundo</td>\n",
       "      <td>Delafé</td>\n",
       "    </tr>\n",
       "    <tr>\n",
       "      <th>35</th>\n",
       "      <td>1183037273</td>\n",
       "      <td>Love Letters to God</td>\n",
       "      <td>Nahko And Medicine For The People</td>\n",
       "    </tr>\n",
       "    <tr>\n",
       "      <th>36</th>\n",
       "      <td>pecmusasana</td>\n",
       "      <td>Looped</td>\n",
       "      <td>Kiasmos</td>\n",
       "    </tr>\n",
       "    <tr>\n",
       "      <th>37</th>\n",
       "      <td>1183037273</td>\n",
       "      <td>The Trooper</td>\n",
       "      <td>Steve ´n´ Seagulls</td>\n",
       "    </tr>\n",
       "    <tr>\n",
       "      <th>38</th>\n",
       "      <td>toni085</td>\n",
       "      <td>The Chain - 2004 Remaster</td>\n",
       "      <td>Fleetwood Mac</td>\n",
       "    </tr>\n",
       "    <tr>\n",
       "      <th>39</th>\n",
       "      <td>pecmusasana</td>\n",
       "      <td>My Sweet Lord / Today Is a Killer - Remastered</td>\n",
       "      <td>Nina Simone</td>\n",
       "    </tr>\n",
       "    <tr>\n",
       "      <th>40</th>\n",
       "      <td>1182774545</td>\n",
       "      <td>Glory Box</td>\n",
       "      <td>Portishead</td>\n",
       "    </tr>\n",
       "    <tr>\n",
       "      <th>41</th>\n",
       "      <td>toni085</td>\n",
       "      <td>Eden (Waveshaper Remix) - Instrumental</td>\n",
       "      <td>Scandroid</td>\n",
       "    </tr>\n",
       "  </tbody>\n",
       "</table>\n",
       "</div>"
      ],
      "text/plain": [
       "       ironhacker                                            song  \\\n",
       "0      soyungalgo                  Mi danza (feat. Dani de Morón)   \n",
       "1      soyungalgo                                       MERICHANE   \n",
       "2         toni085                                 Olaf el vikingo   \n",
       "3   ferqwertyuiop                                           So So   \n",
       "4      1182774545                                WTF Is In My Cup   \n",
       "5         toni085                                       Algorithm   \n",
       "6        copia002                               Ca plane pour moi   \n",
       "7      soyungalgo                                        Fantasya   \n",
       "8      soyungalgo                                            1996   \n",
       "9      1182774545                                          Kuzola   \n",
       "10        toni085                                         Tiburon   \n",
       "11     1182774545                                   Dance With Me   \n",
       "12     1182774545                                       Spinnerei   \n",
       "13     1182774545                                            Home   \n",
       "14     1182774545                  Where Is My Mind? - Remastered   \n",
       "15     1182774545                                            René   \n",
       "16     1182774545                                          Okashi   \n",
       "17     1182774545                Mumma Don't Tell - Faltydl Remix   \n",
       "18     1182774545                                      Multi-Love   \n",
       "19     1182774545                   Nothing's Gonna Hurt You Baby   \n",
       "20     1182774545                            Giddy On The Ciggies   \n",
       "21     1182774545                                       Affection   \n",
       "22     1182774545                                         A Festa   \n",
       "23     1182774545                                           Child   \n",
       "24     1182774545                                            Grey   \n",
       "25  ferqwertyuiop                                         Alright   \n",
       "26     1182774545                                        Odd Look   \n",
       "27        toni085                                       Nightcall   \n",
       "28        toni085                                        La Bomba   \n",
       "29        toni085                                        Mi Carro   \n",
       "30        toni085                                   Jolie Coquine   \n",
       "31  ferqwertyuiop                                       Hip Hop ?   \n",
       "32  ferqwertyuiop                                   Phone Numbers   \n",
       "33        toni085                            Nothing Else Matters   \n",
       "34     soyungalgo                         Lo más bonito del mundo   \n",
       "35     1183037273                             Love Letters to God   \n",
       "36    pecmusasana                                          Looped   \n",
       "37     1183037273                                     The Trooper   \n",
       "38        toni085                       The Chain - 2004 Remaster   \n",
       "39    pecmusasana  My Sweet Lord / Today Is a Killer - Remastered   \n",
       "40     1182774545                                       Glory Box   \n",
       "41        toni085          Eden (Waveshaper Remix) - Instrumental   \n",
       "\n",
       "                                artist  \n",
       "0                        Fuel Fandango  \n",
       "1                               Zahara  \n",
       "2                            LOS NIKIS  \n",
       "3                             Rusowsky  \n",
       "4                         Chico Blanco  \n",
       "5                                 Muse  \n",
       "6                     Plastic Bertrand  \n",
       "7                        Pedro LaDroga  \n",
       "8                             InnerCut  \n",
       "9                                Pongo  \n",
       "10                        Proyecto Uno  \n",
       "11                                Deux  \n",
       "12                      Planet Caravan  \n",
       "13  Edward Sharpe & The Magnetic Zeros  \n",
       "14                              Pixies  \n",
       "15                           Residente  \n",
       "16                   Charlotte Adigéry  \n",
       "17                        Leifur James  \n",
       "18            Unknown Mortal Orchestra  \n",
       "19                Cigarettes After Sex  \n",
       "20                       Sleaford Mods  \n",
       "21                Cigarettes After Sex  \n",
       "22                          Trüby Trio  \n",
       "23                                 B77  \n",
       "24                              Kölsch  \n",
       "25                               KYTES  \n",
       "26                            Kavinsky  \n",
       "27                            Kavinsky  \n",
       "28                         King Africa  \n",
       "29                      Manolo Escobar  \n",
       "30                      Caravan Palace  \n",
       "31                         Hocus Pocus  \n",
       "32                        Dominic Fike  \n",
       "33                           Metallica  \n",
       "34                              Delafé  \n",
       "35   Nahko And Medicine For The People  \n",
       "36                             Kiasmos  \n",
       "37                  Steve ´n´ Seagulls  \n",
       "38                       Fleetwood Mac  \n",
       "39                         Nina Simone  \n",
       "40                          Portishead  \n",
       "41                           Scandroid  "
      ]
     },
     "execution_count": 30,
     "metadata": {},
     "output_type": "execute_result"
    }
   ],
   "source": [
    "playlist"
   ]
  },
  {
   "cell_type": "code",
   "execution_count": 31,
   "id": "distributed-relay",
   "metadata": {},
   "outputs": [],
   "source": [
    "#playlist.to_csv(\"output/playlist.csv\", index=False)"
   ]
  },
  {
   "cell_type": "markdown",
   "id": "hollywood-terry",
   "metadata": {},
   "source": [
    "# 📚 So far:\n",
    "\n",
    "**What we did**\n",
    "- 1. We made an API call to Spotify: to get the info of the list\n",
    "- 2. We got just the songs and the artists from the json\n",
    "- 3. We saved it in a csv\n",
    "<br>\n",
    "\n",
    "**To remember**\n",
    "\n",
    "- Add the `.env`to the `.gitignore`"
   ]
  }
 ],
 "metadata": {
  "kernelspec": {
   "display_name": "Python 3",
   "language": "python",
   "name": "python3"
  },
  "language_info": {
   "codemirror_mode": {
    "name": "ipython",
    "version": 3
   },
   "file_extension": ".py",
   "mimetype": "text/x-python",
   "name": "python",
   "nbconvert_exporter": "python",
   "pygments_lexer": "ipython3",
   "version": "3.9.1"
  }
 },
 "nbformat": 4,
 "nbformat_minor": 5
}
