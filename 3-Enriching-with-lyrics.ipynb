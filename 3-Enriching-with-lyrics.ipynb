{
 "cells": [
  {
   "cell_type": "markdown",
   "id": "incomplete-despite",
   "metadata": {},
   "source": [
    " # <center> 3rd goal: obtain the lyrics through a lyrics_extractor </center>"
   ]
  },
  {
   "cell_type": "markdown",
   "id": "objective-gamma",
   "metadata": {},
   "source": [
    "## 0. Importing"
   ]
  },
  {
   "cell_type": "code",
   "execution_count": 1,
   "id": "square-insert",
   "metadata": {},
   "outputs": [
    {
     "data": {
      "text/plain": [
       "True"
      ]
     },
     "execution_count": 1,
     "metadata": {},
     "output_type": "execute_result"
    }
   ],
   "source": [
    "import pandas as pd\n",
    "from lyrics_extractor import SongLyrics\n",
    "import os\n",
    "from dotenv import load_dotenv\n",
    "load_dotenv()"
   ]
  },
  {
   "cell_type": "markdown",
   "id": "outdoor-harris",
   "metadata": {},
   "source": [
    "## 1. Go to the Spotify pypi site"
   ]
  },
  {
   "cell_type": "markdown",
   "id": "advised-trainer",
   "metadata": {},
   "source": [
    "https://pypi.org/project/lyrics-extractor/"
   ]
  },
  {
   "cell_type": "markdown",
   "id": "harmful-burke",
   "metadata": {},
   "source": [
    "### 1.1. Authenticate\n",
    "\n",
    "1.1.1. **[First](https://cse.google.com/cse/create/new)**, create a custom search engine: select a lyrics website to scrape. i.e.: www.genius.com <br> \n",
    "1.1.2. **Second**, `Edit your search engine > select your web > Copy your Search engine ID`. You now have your **GCS_ENGINE_ID**<br>\n",
    "1.1.3. **[Then](https://developers.google.com/custom-search/v1/overview)**, `Get a key > Select project > copy the API key for the search engine`. You now have your **GCS_API_KEY**"
   ]
  },
  {
   "cell_type": "code",
   "execution_count": 62,
   "id": "marked-minneapolis",
   "metadata": {},
   "outputs": [],
   "source": [
    "# ⚠️ REMEMBER TO DELETE THIS CELL\n",
    "\n",
    "GCS_ENGINE_ID_ras = \"\"\n",
    "GCS_API_KEY_ras = \"\""
   ]
  },
  {
   "cell_type": "markdown",
   "id": "diverse-discount",
   "metadata": {},
   "source": [
    "### 2. Save into .env"
   ]
  },
  {
   "cell_type": "code",
   "execution_count": 63,
   "id": "approximate-virgin",
   "metadata": {},
   "outputs": [],
   "source": [
    "def save_into_env(GCS_ENGINE_ID, GCS_API_KEY):\n",
    "\n",
    "    #To insert the variables\n",
    "    file = open(\".env\", \"a\")\n",
    "    file.write(f\"GCS_ENGINE_ID='{GCS_ENGINE_ID}'\\n\")\n",
    "    file.write(f\"GCS_API_KEY='{GCS_API_KEY}'\\n\")\n",
    "    file.close()"
   ]
  },
  {
   "cell_type": "code",
   "execution_count": 64,
   "id": "outside-distinction",
   "metadata": {},
   "outputs": [],
   "source": [
    "# We save it into the .env\n",
    "save_into_env(GCS_ENGINE_ID, GCS_API_KEY)"
   ]
  },
  {
   "cell_type": "code",
   "execution_count": 68,
   "id": "rolled-sense",
   "metadata": {},
   "outputs": [],
   "source": [
    "!code ."
   ]
  },
  {
   "cell_type": "markdown",
   "id": "established-horizontal",
   "metadata": {},
   "source": [
    "### ⛔️ Did you delete the cell? "
   ]
  },
  {
   "cell_type": "markdown",
   "id": "meaning-script",
   "metadata": {},
   "source": [
    "## 3. Scrape the lyrics"
   ]
  },
  {
   "cell_type": "code",
   "execution_count": 69,
   "id": "artistic-singapore",
   "metadata": {},
   "outputs": [
    {
     "data": {
      "text/html": [
       "<div>\n",
       "<style scoped>\n",
       "    .dataframe tbody tr th:only-of-type {\n",
       "        vertical-align: middle;\n",
       "    }\n",
       "\n",
       "    .dataframe tbody tr th {\n",
       "        vertical-align: top;\n",
       "    }\n",
       "\n",
       "    .dataframe thead th {\n",
       "        text-align: right;\n",
       "    }\n",
       "</style>\n",
       "<table border=\"1\" class=\"dataframe\">\n",
       "  <thead>\n",
       "    <tr style=\"text-align: right;\">\n",
       "      <th></th>\n",
       "      <th>ironhacker</th>\n",
       "      <th>song</th>\n",
       "      <th>artist</th>\n",
       "    </tr>\n",
       "  </thead>\n",
       "  <tbody>\n",
       "    <tr>\n",
       "      <th>0</th>\n",
       "      <td>soyungalgo</td>\n",
       "      <td>Mi danza (feat. Dani de Morón)</td>\n",
       "      <td>Fuel Fandango</td>\n",
       "    </tr>\n",
       "    <tr>\n",
       "      <th>1</th>\n",
       "      <td>soyungalgo</td>\n",
       "      <td>MERICHANE</td>\n",
       "      <td>Zahara</td>\n",
       "    </tr>\n",
       "    <tr>\n",
       "      <th>2</th>\n",
       "      <td>toni085</td>\n",
       "      <td>Olaf el vikingo</td>\n",
       "      <td>LOS NIKIS</td>\n",
       "    </tr>\n",
       "    <tr>\n",
       "      <th>3</th>\n",
       "      <td>ferqwertyuiop</td>\n",
       "      <td>So So</td>\n",
       "      <td>Rusowsky</td>\n",
       "    </tr>\n",
       "    <tr>\n",
       "      <th>4</th>\n",
       "      <td>1182774545</td>\n",
       "      <td>WTF Is In My Cup</td>\n",
       "      <td>Chico Blanco</td>\n",
       "    </tr>\n",
       "  </tbody>\n",
       "</table>\n",
       "</div>"
      ],
      "text/plain": [
       "      ironhacker                            song         artist\n",
       "0     soyungalgo  Mi danza (feat. Dani de Morón)  Fuel Fandango\n",
       "1     soyungalgo                       MERICHANE         Zahara\n",
       "2        toni085                 Olaf el vikingo      LOS NIKIS\n",
       "3  ferqwertyuiop                           So So       Rusowsky\n",
       "4     1182774545                WTF Is In My Cup   Chico Blanco"
      ]
     },
     "execution_count": 69,
     "metadata": {},
     "output_type": "execute_result"
    }
   ],
   "source": [
    "df = pd.read_csv(\"output/playlist.csv\")\n",
    "df.head()"
   ]
  },
  {
   "cell_type": "markdown",
   "id": "received-protein",
   "metadata": {},
   "source": [
    "### 3.1. Apply the function to the df"
   ]
  },
  {
   "cell_type": "code",
   "execution_count": 83,
   "id": "express-punch",
   "metadata": {},
   "outputs": [],
   "source": [
    "# The library \"extract_lyrics\" needs authentication:\n",
    "\n",
    "GCS_API_KEY = os.getenv(\"GCS_API_KEY\")\n",
    "GCS_ENGINE_ID = os.getenv(\"GCS_ENGINE_ID\")"
   ]
  },
  {
   "cell_type": "code",
   "execution_count": 78,
   "id": "adverse-decade",
   "metadata": {},
   "outputs": [],
   "source": [
    "extract_lyrics = SongLyrics(GCS_API_KEY, GCS_ENGINE_ID)"
   ]
  },
  {
   "cell_type": "code",
   "execution_count": 79,
   "id": "thirty-climate",
   "metadata": {},
   "outputs": [
    {
     "data": {
      "text/plain": [
       "{'title': 'Ed Sheeran – Shape of You Lyrics',\n",
       " 'lyrics': \"[Verse 1]\\nThe club isn't the best place to find a lover\\nSo the bar is where I go\\nMe and my friends at the table doing shots\\nDrinking fast and then we talk slow\\nAnd you come over and start up a conversation with just me\\nAnd trust me I'll give it a chance now\\nTake my hand, stop, put Van the Man on the jukebox\\nAnd then we start to dance, and now I'm singing like\\n\\n[Pre-Chorus]\\nGirl, you know I want your love\\nYour love was handmade for somebody like me\\nCome on now, follow my lead\\nI may be crazy, don't mind me\\nSay, boy, let's not talk too much\\nGrab on my waist and put that body on me\\nCome on now, follow my lead\\nCome, come on now, follow my lead\\n\\n[Chorus]\\nI'm in love with the shape of you\\nWe push and pull like a magnet do\\nAlthough my heart is falling too\\nI'm in love with your body\\nAnd last night you were in my room\\nAnd now my bed sheets smell like you\\nEvery day discovering something brand new\\nI'm in love with your body\\nOh—I—oh—I—oh—I—oh—I\\nI'm in love with your body\\nOh—I—oh—I—oh—I—oh—I\\nI'm in love with your body\\nOh—I—oh—I—oh—I—oh—I\\nI'm in love with your body\\nEvery day discovering something brand new\\nI'm in love with the shape of you\\n\\n[Verse 2]\\nOne week in we let the story begin\\nWe're going out on our first date\\nYou and me are thrifty, so go all you can eat\\nFill up your bag and I fill up a plate\\nWe talk for hours and hours about the sweet and the sour\\nAnd how your family is doing okay\\nLeave and get in a taxi, then kiss in the backseat\\nTell the driver make the radio play, and I'm singing like\\n\\n[Pre-Chorus]\\nGirl, you know I want your love\\nYour love was handmade for somebody like me\\nCome on now, follow my lead\\nI may be crazy, don't mind me\\nSay, boy, let's not talk too much\\nGrab on my waist and put that body on me\\nCome on now, follow my lead\\nCome, come on now, follow my lead\\n\\n[Chorus]\\nI'm in love with the shape of you\\nWe push and pull like a magnet do\\nAlthough my heart is falling too\\nI'm in love with your body\\nAnd last night you were in my room\\nAnd now my bed sheets smell like you\\nEvery day discovering something brand new\\nI'm in love with your body\\nOh—I—oh—I—oh—I—oh—I\\nI'm in love with your body\\nOh—I—oh—I—oh—I—oh—I\\nI'm in love with your body\\nOh—I—oh—I—oh—I—oh—I\\nI'm in love with your body\\nEvery day discovering something brand new\\nI'm in love with the shape of you\\n\\n[Bridge]\\nCome on, be my baby, come on\\nCome on, be my baby, come on\\nCome on, be my baby, come on\\nCome on, be my baby, come on\\nCome on, be my baby, come on\\nCome on, be my baby, come on\\nCome on, be my baby, come on\\nCome on, be my baby, come on\\n\\n[Chorus]\\nI'm in love with the shape of you\\nWe push and pull like a magnet do\\nAlthough my heart is falling too\\nI'm in love with your body\\nLast night you were in my room\\nAnd now my bed sheets smell like you\\nEvery day discovering something brand new\\nI'm in love with your body\\nCome on, be my baby, come on\\nCome on, be my baby, come on\\nI'm in love with your body\\nCome on, be my baby, come on\\nCome on, be my baby, come on\\nI'm in love with your body\\nCome on, be my baby, come on\\nCome on, be my baby, come on\\nI'm in love with your body\\nEvery day discovering something brand new\\nI'm in love with the shape of you\"}"
      ]
     },
     "execution_count": 79,
     "metadata": {},
     "output_type": "execute_result"
    }
   ],
   "source": [
    "extract_lyrics.get_lyrics(\"shape of you\")"
   ]
  },
  {
   "cell_type": "code",
   "execution_count": 80,
   "id": "considerable-plasma",
   "metadata": {},
   "outputs": [],
   "source": [
    "def scrape_lyrics (one_song):\n",
    "    lyrics = extract_lyrics.get_lyrics(one_song)\n",
    "    just_the_lyrics = lyrics['lyrics']\n",
    "    return just_the_lyrics"
   ]
  },
  {
   "cell_type": "code",
   "execution_count": 81,
   "id": "expressed-house",
   "metadata": {},
   "outputs": [],
   "source": [
    "#New column will be the lyrics\n",
    "\n",
    "df['lyrics'] = df.song.apply(scrape_lyrics)"
   ]
  },
  {
   "cell_type": "code",
   "execution_count": 82,
   "id": "computational-burlington",
   "metadata": {},
   "outputs": [
    {
     "data": {
      "text/html": [
       "<div>\n",
       "<style scoped>\n",
       "    .dataframe tbody tr th:only-of-type {\n",
       "        vertical-align: middle;\n",
       "    }\n",
       "\n",
       "    .dataframe tbody tr th {\n",
       "        vertical-align: top;\n",
       "    }\n",
       "\n",
       "    .dataframe thead th {\n",
       "        text-align: right;\n",
       "    }\n",
       "</style>\n",
       "<table border=\"1\" class=\"dataframe\">\n",
       "  <thead>\n",
       "    <tr style=\"text-align: right;\">\n",
       "      <th></th>\n",
       "      <th>ironhacker</th>\n",
       "      <th>song</th>\n",
       "      <th>artist</th>\n",
       "      <th>lyrics</th>\n",
       "    </tr>\n",
       "  </thead>\n",
       "  <tbody>\n",
       "    <tr>\n",
       "      <th>0</th>\n",
       "      <td>soyungalgo</td>\n",
       "      <td>Mi danza (feat. Dani de Morón)</td>\n",
       "      <td>Fuel Fandango</td>\n",
       "      <td>[Letra de \"Mi Danza\"]\\n\\n[Verso 1]\\nDeja que l...</td>\n",
       "    </tr>\n",
       "    <tr>\n",
       "      <th>1</th>\n",
       "      <td>soyungalgo</td>\n",
       "      <td>MERICHANE</td>\n",
       "      <td>Zahara</td>\n",
       "      <td>[Letra de \"MERICHANE\"]\\n\\n[Estrofa 1]\\nYo esta...</td>\n",
       "    </tr>\n",
       "    <tr>\n",
       "      <th>2</th>\n",
       "      <td>toni085</td>\n",
       "      <td>Olaf el vikingo</td>\n",
       "      <td>LOS NIKIS</td>\n",
       "      <td>Todos en la tribu le tienen miedo\\nOlaf el vik...</td>\n",
       "    </tr>\n",
       "    <tr>\n",
       "      <th>3</th>\n",
       "      <td>ferqwertyuiop</td>\n",
       "      <td>So So</td>\n",
       "      <td>Rusowsky</td>\n",
       "      <td>[Intro]\\nFl-Fl-Flex Lennon\\n\\n[Chorus]\\nPropos...</td>\n",
       "    </tr>\n",
       "    <tr>\n",
       "      <th>4</th>\n",
       "      <td>1182774545</td>\n",
       "      <td>WTF Is In My Cup</td>\n",
       "      <td>Chico Blanco</td>\n",
       "      <td>[Letra de \"WTF Is In My Cup\"]\\n\\n[Estribillo]\\...</td>\n",
       "    </tr>\n",
       "  </tbody>\n",
       "</table>\n",
       "</div>"
      ],
      "text/plain": [
       "      ironhacker                            song         artist  \\\n",
       "0     soyungalgo  Mi danza (feat. Dani de Morón)  Fuel Fandango   \n",
       "1     soyungalgo                       MERICHANE         Zahara   \n",
       "2        toni085                 Olaf el vikingo      LOS NIKIS   \n",
       "3  ferqwertyuiop                           So So       Rusowsky   \n",
       "4     1182774545                WTF Is In My Cup   Chico Blanco   \n",
       "\n",
       "                                              lyrics  \n",
       "0  [Letra de \"Mi Danza\"]\\n\\n[Verso 1]\\nDeja que l...  \n",
       "1  [Letra de \"MERICHANE\"]\\n\\n[Estrofa 1]\\nYo esta...  \n",
       "2  Todos en la tribu le tienen miedo\\nOlaf el vik...  \n",
       "3  [Intro]\\nFl-Fl-Flex Lennon\\n\\n[Chorus]\\nPropos...  \n",
       "4  [Letra de \"WTF Is In My Cup\"]\\n\\n[Estribillo]\\...  "
      ]
     },
     "execution_count": 82,
     "metadata": {},
     "output_type": "execute_result"
    }
   ],
   "source": [
    "df.head()"
   ]
  },
  {
   "cell_type": "markdown",
   "id": "fantastic-filter",
   "metadata": {},
   "source": [
    "## 4. Exporting the df"
   ]
  },
  {
   "cell_type": "code",
   "execution_count": 84,
   "id": "enhanced-humanitarian",
   "metadata": {},
   "outputs": [],
   "source": [
    "#df.to_csv(\"output/playlist_with_lyrics.csv\", index=False)"
   ]
  },
  {
   "cell_type": "markdown",
   "id": "administrative-arrest",
   "metadata": {},
   "source": [
    "# 📚 So far:\n",
    "\n",
    "**What we did**\n",
    "- 1. Authenticated for the library **lyrics_extractor**: app id & token through google\n",
    "- 2. We scrapped every song on the dataframe\n",
    "<br>\n",
    "\n",
    "**To remember**\n",
    "\n",
    "- Always check the API's documentation"
   ]
  }
 ],
 "metadata": {
  "kernelspec": {
   "display_name": "Python 3",
   "language": "python",
   "name": "python3"
  },
  "language_info": {
   "codemirror_mode": {
    "name": "ipython",
    "version": 3
   },
   "file_extension": ".py",
   "mimetype": "text/x-python",
   "name": "python",
   "nbconvert_exporter": "python",
   "pygments_lexer": "ipython3",
   "version": "3.9.1"
  }
 },
 "nbformat": 4,
 "nbformat_minor": 5
}
