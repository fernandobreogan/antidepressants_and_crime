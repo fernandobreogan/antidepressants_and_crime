{
 "cells": [
  {
   "cell_type": "markdown",
   "id": "separate-vaccine",
   "metadata": {},
   "source": [
    "![datamad0121](img/datamad0121.png)"
   ]
  },
  {
   "cell_type": "markdown",
   "id": "arranged-november",
   "metadata": {},
   "source": [
    " # <center> 1st goal: obtain Spotify token to make use their API </center>"
   ]
  },
  {
   "cell_type": "markdown",
   "id": "yellow-highway",
   "metadata": {},
   "source": [
    "## 0. Importing"
   ]
  },
  {
   "cell_type": "code",
   "execution_count": 1,
   "id": "thorough-hardware",
   "metadata": {},
   "outputs": [
    {
     "data": {
      "text/plain": [
       "True"
      ]
     },
     "execution_count": 1,
     "metadata": {},
     "output_type": "execute_result"
    }
   ],
   "source": [
    "#!brew install tree\n",
    "import os\n",
    "import json\n",
    "import requests\n",
    "from dotenv import load_dotenv\n",
    "load_dotenv()"
   ]
  },
  {
   "cell_type": "markdown",
   "id": "agricultural-division",
   "metadata": {},
   "source": [
    "#### Checking the structure of the repo"
   ]
  },
  {
   "cell_type": "code",
   "execution_count": 1,
   "id": "painful-progressive",
   "metadata": {},
   "outputs": [
    {
     "name": "stdout",
     "output_type": "stream",
     "text": [
      "\u001b[01;34m.\u001b[00m\r\n",
      "├── 1-Spotify-tokens.ipynb\r\n",
      "├── 2-Spotify-API-calls.ipynb\r\n",
      "├── 3-Enriching-with-lyrics.ipynb\r\n",
      "├── 4-Sentiment-analysis-on-lyrics.ipynb\r\n",
      "├── README.md\r\n",
      "├── \u001b[01;34mimg\u001b[00m\r\n",
      "│   └── datamad0121.png\r\n",
      "└── \u001b[01;34moutput\u001b[00m\r\n",
      "    ├── letras.csv\r\n",
      "    ├── playlist.csv\r\n",
      "    └── playlist_with_lyrics.csv\r\n",
      "\r\n",
      "2 directories, 9 files\r\n"
     ]
    }
   ],
   "source": [
    "!tree"
   ]
  },
  {
   "cell_type": "markdown",
   "id": "roman-shoulder",
   "metadata": {},
   "source": [
    "## 1. Go to the Spotify API site"
   ]
  },
  {
   "cell_type": "markdown",
   "id": "representative-henry",
   "metadata": {},
   "source": [
    "https://developer.spotify.com/dashboard/applications"
   ]
  },
  {
   "cell_type": "markdown",
   "id": "wired-wisdom",
   "metadata": {},
   "source": [
    "### 2. Get CLIENT_ID & CLIENT_SECRET "
   ]
  },
  {
   "cell_type": "markdown",
   "id": "exciting-viewer",
   "metadata": {},
   "source": [
    "Save them in a `.env` file"
   ]
  },
  {
   "cell_type": "code",
   "execution_count": null,
   "id": "driven-vermont",
   "metadata": {},
   "outputs": [],
   "source": [
    "CLIENT_ID=\"xxx\"\n",
    "CLIENT_SECRET=\"xxx\""
   ]
  },
  {
   "cell_type": "code",
   "execution_count": null,
   "id": "naked-scale",
   "metadata": {},
   "outputs": [],
   "source": [
    "file = open(\".env\", \"a\")\n",
    "file.write(f\"CLIENT_ID={CLIENT_ID}\\n\")\n",
    "file.write(f\"CLIENT_SECRET={CLIENT_SECRET}\\n\")\n",
    "file.close()"
   ]
  },
  {
   "cell_type": "markdown",
   "id": "quantitative-intelligence",
   "metadata": {},
   "source": [
    "### 3. GET TOKENS"
   ]
  },
  {
   "cell_type": "code",
   "execution_count": 2,
   "id": "worst-fleece",
   "metadata": {},
   "outputs": [],
   "source": [
    "def spotifyToken():\n",
    "    '''This function makes a request to Spotify to get a token'''\n",
    "    \n",
    "    #Authentication\n",
    "\n",
    "    CLIENT_ID = os.getenv(\"CLIENT_ID\")\n",
    "    CLIENT_SECRET = os.getenv(\"CLIENT_SECRET\")\n",
    "    \n",
    "    #Scope\n",
    "    grant_type = 'client_credentials'\n",
    "    body_params = {'grant_type' : grant_type}\n",
    "    \n",
    "    #Where to ask for the token\n",
    "    url='https://accounts.spotify.com/api/token'\n",
    "    \n",
    "    #The request\n",
    "    response = requests.post(url, data=body_params, auth = (CLIENT_ID, CLIENT_SECRET), verify=False) \n",
    "    \n",
    "    #The token\n",
    "    token_raw = json.loads(response.text)\n",
    "    try:\n",
    "        token = token_raw['access_token']\n",
    "        return token\n",
    "    except:\n",
    "        return token_raw"
   ]
  },
  {
   "cell_type": "code",
   "execution_count": null,
   "id": "international-helena",
   "metadata": {},
   "outputs": [],
   "source": [
    "spotifyToken()"
   ]
  },
  {
   "cell_type": "markdown",
   "id": "demanding-constitutional",
   "metadata": {},
   "source": [
    "## 4. Save token in the .env file"
   ]
  },
  {
   "cell_type": "code",
   "execution_count": 6,
   "id": "ethical-generator",
   "metadata": {},
   "outputs": [
    {
     "name": "stderr",
     "output_type": "stream",
     "text": [
      "/usr/local/lib/python3.9/site-packages/urllib3/connectionpool.py:1013: InsecureRequestWarning: Unverified HTTPS request is being made to host 'accounts.spotify.com'. Adding certificate verification is strongly advised. See: https://urllib3.readthedocs.io/en/latest/advanced-usage.html#ssl-warnings\n",
      "  warnings.warn(\n"
     ]
    }
   ],
   "source": [
    "file = open(\".env\", \"a\")\n",
    "file.write(f\"token={spotifyToken()}\")\n",
    "file.close()"
   ]
  },
  {
   "cell_type": "markdown",
   "id": "isolated-opera",
   "metadata": {},
   "source": [
    "# 📚 So far:\n",
    "\n",
    "**What we did**\n",
    "- 1. We got our spotify auth\n",
    "- 2. With that, we then got our spotify `token`\n",
    "- 3. We saved the`token` in the .env <br>\n",
    "<br>\n",
    "\n",
    "**To remember**\n",
    "\n",
    "- **CLIENT_ID** & **CLIENT_SECRET** is just a mean to get the `token`, not the auth itself\n",
    "- The `token`expires"
   ]
  }
 ],
 "metadata": {
  "kernelspec": {
   "display_name": "Python 3",
   "language": "python",
   "name": "python3"
  },
  "language_info": {
   "codemirror_mode": {
    "name": "ipython",
    "version": 3
   },
   "file_extension": ".py",
   "mimetype": "text/x-python",
   "name": "python",
   "nbconvert_exporter": "python",
   "pygments_lexer": "ipython3",
   "version": "3.9.1"
  }
 },
 "nbformat": 4,
 "nbformat_minor": 5
}
