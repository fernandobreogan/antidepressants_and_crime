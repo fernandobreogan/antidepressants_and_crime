{
 "cells": [
  {
   "cell_type": "markdown",
   "id": "commercial-mountain",
   "metadata": {},
   "source": [
    " # <center> 4th goal: cleaning and sentiment analysis of the lyrics</center>"
   ]
  },
  {
   "cell_type": "markdown",
   "id": "overhead-burner",
   "metadata": {},
   "source": [
    "# 0. Import"
   ]
  },
  {
   "cell_type": "code",
   "execution_count": 45,
   "id": "transsexual-cursor",
   "metadata": {},
   "outputs": [],
   "source": [
    "import pandas as pd\n",
    "\n",
    "#regex\n",
    "import re\n",
    "\n",
    "#NLTK\n",
    "import nltk\n",
    "from nltk.sentiment.vader import SentimentIntensityAnalyzer\n",
    "from nltk.tokenize import RegexpTokenizer\n",
    "from nltk.corpus import stopwords\n",
    "\n",
    "#TextBlob\n",
    "from textblob import TextBlob\n",
    "\n",
    "#SpaCy\n",
    "import spacy\n",
    "from spacy import displacy\n",
    "\n",
    "from langdetect import detect\n",
    "\n",
    "#Others\n",
    "#import speech_recognition as sr #sudo pip3 install --upgrade speechrecognition\n",
    "#import pyaudio"
   ]
  },
  {
   "cell_type": "code",
   "execution_count": 2,
   "id": "light-event",
   "metadata": {},
   "outputs": [],
   "source": [
    "from sentiment_analysis_spanish import sentiment_analysis #https://pypi.org/project/sentiment-analysis-spanish/"
   ]
  },
  {
   "cell_type": "markdown",
   "id": "everyday-auction",
   "metadata": {},
   "source": [
    "## 1. Some cleaning"
   ]
  },
  {
   "cell_type": "code",
   "execution_count": 3,
   "id": "suburban-closure",
   "metadata": {},
   "outputs": [
    {
     "data": {
      "text/html": [
       "<div>\n",
       "<style scoped>\n",
       "    .dataframe tbody tr th:only-of-type {\n",
       "        vertical-align: middle;\n",
       "    }\n",
       "\n",
       "    .dataframe tbody tr th {\n",
       "        vertical-align: top;\n",
       "    }\n",
       "\n",
       "    .dataframe thead th {\n",
       "        text-align: right;\n",
       "    }\n",
       "</style>\n",
       "<table border=\"1\" class=\"dataframe\">\n",
       "  <thead>\n",
       "    <tr style=\"text-align: right;\">\n",
       "      <th></th>\n",
       "      <th>ironhacker</th>\n",
       "      <th>song</th>\n",
       "      <th>artist</th>\n",
       "      <th>lyrics</th>\n",
       "    </tr>\n",
       "  </thead>\n",
       "  <tbody>\n",
       "    <tr>\n",
       "      <th>0</th>\n",
       "      <td>soyungalgo</td>\n",
       "      <td>Mi danza (feat. Dani de Morón)</td>\n",
       "      <td>Fuel Fandango</td>\n",
       "      <td>[Letra de \"Mi Danza\"]\\n\\n[Verso 1]\\nDeja que l...</td>\n",
       "    </tr>\n",
       "    <tr>\n",
       "      <th>1</th>\n",
       "      <td>soyungalgo</td>\n",
       "      <td>MERICHANE</td>\n",
       "      <td>Zahara</td>\n",
       "      <td>[Letra de \"MERICHANE\"]\\n\\n[Estrofa 1]\\nYo esta...</td>\n",
       "    </tr>\n",
       "    <tr>\n",
       "      <th>2</th>\n",
       "      <td>toni085</td>\n",
       "      <td>Olaf el vikingo</td>\n",
       "      <td>LOS NIKIS</td>\n",
       "      <td>Todos en la tribu le tienen miedo\\nOlaf el vik...</td>\n",
       "    </tr>\n",
       "    <tr>\n",
       "      <th>3</th>\n",
       "      <td>ferqwertyuiop</td>\n",
       "      <td>So So</td>\n",
       "      <td>Rusowsky</td>\n",
       "      <td>[Intro]\\nFl-Fl-Flex Lennon\\n\\n[Chorus]\\nPropos...</td>\n",
       "    </tr>\n",
       "    <tr>\n",
       "      <th>4</th>\n",
       "      <td>1182774545</td>\n",
       "      <td>WTF Is In My Cup</td>\n",
       "      <td>Chico Blanco</td>\n",
       "      <td>[Letra de \"WTF Is In My Cup\"]\\n\\n[Estribillo]\\...</td>\n",
       "    </tr>\n",
       "  </tbody>\n",
       "</table>\n",
       "</div>"
      ],
      "text/plain": [
       "      ironhacker                            song         artist  \\\n",
       "0     soyungalgo  Mi danza (feat. Dani de Morón)  Fuel Fandango   \n",
       "1     soyungalgo                       MERICHANE         Zahara   \n",
       "2        toni085                 Olaf el vikingo      LOS NIKIS   \n",
       "3  ferqwertyuiop                           So So       Rusowsky   \n",
       "4     1182774545                WTF Is In My Cup   Chico Blanco   \n",
       "\n",
       "                                              lyrics  \n",
       "0  [Letra de \"Mi Danza\"]\\n\\n[Verso 1]\\nDeja que l...  \n",
       "1  [Letra de \"MERICHANE\"]\\n\\n[Estrofa 1]\\nYo esta...  \n",
       "2  Todos en la tribu le tienen miedo\\nOlaf el vik...  \n",
       "3  [Intro]\\nFl-Fl-Flex Lennon\\n\\n[Chorus]\\nPropos...  \n",
       "4  [Letra de \"WTF Is In My Cup\"]\\n\\n[Estribillo]\\...  "
      ]
     },
     "execution_count": 3,
     "metadata": {},
     "output_type": "execute_result"
    }
   ],
   "source": [
    "df = pd.read_csv(\"output/playlist_with_lyrics.csv\")\n",
    "df.head()"
   ]
  },
  {
   "cell_type": "markdown",
   "id": "higher-adams",
   "metadata": {},
   "source": [
    "### 1.1. Remove bracketed text"
   ]
  },
  {
   "cell_type": "markdown",
   "id": "forbidden-cologne",
   "metadata": {},
   "source": [
    "#### Defining a regex pattern"
   ]
  },
  {
   "cell_type": "code",
   "execution_count": 4,
   "id": "miniature-drain",
   "metadata": {},
   "outputs": [],
   "source": [
    "pattern = \"\\[(.*?)\\]\"\n",
    "string = \"\"\n",
    "quitar_corchetes = re.sub(pattern, \"\", string)"
   ]
  },
  {
   "cell_type": "markdown",
   "id": "clinical-works",
   "metadata": {},
   "source": [
    "#### Making it a function"
   ]
  },
  {
   "cell_type": "code",
   "execution_count": 5,
   "id": "innocent-statistics",
   "metadata": {},
   "outputs": [],
   "source": [
    "def quitar_corchetes (string):\n",
    "    pattern = \"(\\[(.*?)\\])\"\n",
    "    sin_corchetes = re.sub(pattern, \"\", string)\n",
    "    return sin_corchetes"
   ]
  },
  {
   "cell_type": "markdown",
   "id": "august-access",
   "metadata": {},
   "source": [
    "#### Applying it to a column"
   ]
  },
  {
   "cell_type": "code",
   "execution_count": 6,
   "id": "acoustic-league",
   "metadata": {},
   "outputs": [
    {
     "data": {
      "text/html": [
       "<div>\n",
       "<style scoped>\n",
       "    .dataframe tbody tr th:only-of-type {\n",
       "        vertical-align: middle;\n",
       "    }\n",
       "\n",
       "    .dataframe tbody tr th {\n",
       "        vertical-align: top;\n",
       "    }\n",
       "\n",
       "    .dataframe thead th {\n",
       "        text-align: right;\n",
       "    }\n",
       "</style>\n",
       "<table border=\"1\" class=\"dataframe\">\n",
       "  <thead>\n",
       "    <tr style=\"text-align: right;\">\n",
       "      <th></th>\n",
       "      <th>ironhacker</th>\n",
       "      <th>song</th>\n",
       "      <th>artist</th>\n",
       "      <th>lyrics</th>\n",
       "    </tr>\n",
       "  </thead>\n",
       "  <tbody>\n",
       "    <tr>\n",
       "      <th>0</th>\n",
       "      <td>soyungalgo</td>\n",
       "      <td>Mi danza (feat. Dani de Morón)</td>\n",
       "      <td>Fuel Fandango</td>\n",
       "      <td>\\n\\n\\nDeja que la vida brote\\nDonde menos te l...</td>\n",
       "    </tr>\n",
       "    <tr>\n",
       "      <th>1</th>\n",
       "      <td>soyungalgo</td>\n",
       "      <td>MERICHANE</td>\n",
       "      <td>Zahara</td>\n",
       "      <td>\\n\\n\\nYo estaba ahí cuando todos bailaban\\nMoj...</td>\n",
       "    </tr>\n",
       "    <tr>\n",
       "      <th>2</th>\n",
       "      <td>toni085</td>\n",
       "      <td>Olaf el vikingo</td>\n",
       "      <td>LOS NIKIS</td>\n",
       "      <td>Todos en la tribu le tienen miedo\\nOlaf el vik...</td>\n",
       "    </tr>\n",
       "    <tr>\n",
       "      <th>3</th>\n",
       "      <td>ferqwertyuiop</td>\n",
       "      <td>So So</td>\n",
       "      <td>Rusowsky</td>\n",
       "      <td>\\nFl-Fl-Flex Lennon\\n\\n\\nPropose a toast, you ...</td>\n",
       "    </tr>\n",
       "    <tr>\n",
       "      <th>4</th>\n",
       "      <td>1182774545</td>\n",
       "      <td>WTF Is In My Cup</td>\n",
       "      <td>Chico Blanco</td>\n",
       "      <td>\\n\\n\\nWhat the fuck is in my cup? I don't even...</td>\n",
       "    </tr>\n",
       "  </tbody>\n",
       "</table>\n",
       "</div>"
      ],
      "text/plain": [
       "      ironhacker                            song         artist  \\\n",
       "0     soyungalgo  Mi danza (feat. Dani de Morón)  Fuel Fandango   \n",
       "1     soyungalgo                       MERICHANE         Zahara   \n",
       "2        toni085                 Olaf el vikingo      LOS NIKIS   \n",
       "3  ferqwertyuiop                           So So       Rusowsky   \n",
       "4     1182774545                WTF Is In My Cup   Chico Blanco   \n",
       "\n",
       "                                              lyrics  \n",
       "0  \\n\\n\\nDeja que la vida brote\\nDonde menos te l...  \n",
       "1  \\n\\n\\nYo estaba ahí cuando todos bailaban\\nMoj...  \n",
       "2  Todos en la tribu le tienen miedo\\nOlaf el vik...  \n",
       "3  \\nFl-Fl-Flex Lennon\\n\\n\\nPropose a toast, you ...  \n",
       "4  \\n\\n\\nWhat the fuck is in my cup? I don't even...  "
      ]
     },
     "execution_count": 6,
     "metadata": {},
     "output_type": "execute_result"
    }
   ],
   "source": [
    "df['lyrics'] = df.lyrics.apply(quitar_corchetes)\n",
    "df.head()"
   ]
  },
  {
   "cell_type": "markdown",
   "id": "sweet-engineering",
   "metadata": {},
   "source": [
    "# 2. Tokenization"
   ]
  },
  {
   "cell_type": "markdown",
   "id": "determined-cannon",
   "metadata": {},
   "source": [
    "`RegexpTokenizer(r'\\w+')` <br>\n",
    "`tokenizer.tokenize(string)`"
   ]
  },
  {
   "cell_type": "code",
   "execution_count": 7,
   "id": "encouraging-medication",
   "metadata": {},
   "outputs": [
    {
     "name": "stderr",
     "output_type": "stream",
     "text": [
      "[nltk_data] Downloading package punkt to /Users/breogann/nltk_data...\n",
      "[nltk_data]   Package punkt is already up-to-date!\n"
     ]
    },
    {
     "data": {
      "text/plain": [
       "True"
      ]
     },
     "execution_count": 7,
     "metadata": {},
     "output_type": "execute_result"
    }
   ],
   "source": [
    "#Donwload tokenizer from NLTK\n",
    "nltk.download('punkt')"
   ]
  },
  {
   "cell_type": "markdown",
   "id": "coral-hartford",
   "metadata": {},
   "source": [
    "#### Tokenizing just one cell\n"
   ]
  },
  {
   "cell_type": "code",
   "execution_count": 8,
   "id": "instant-introduction",
   "metadata": {},
   "outputs": [
    {
     "data": {
      "text/plain": [
       "['Deja',\n",
       " 'que',\n",
       " 'la',\n",
       " 'vida',\n",
       " 'brote',\n",
       " 'Donde',\n",
       " 'menos',\n",
       " 'te',\n",
       " 'lo',\n",
       " 'esperas',\n",
       " 'Deja',\n",
       " 'que',\n",
       " 'se',\n",
       " 'abra',\n",
       " 'camino',\n",
       " 'Y',\n",
       " 'trepe',\n",
       " 'como',\n",
       " 'enredadera',\n",
       " 'Deja',\n",
       " 'que',\n",
       " 'me',\n",
       " 'lleve',\n",
       " 'el',\n",
       " 'aire',\n",
       " 'Hacia',\n",
       " 'un',\n",
       " 'futuro',\n",
       " 'nuevo',\n",
       " 'Deja',\n",
       " 'que',\n",
       " 'vuelva',\n",
       " 'al',\n",
       " 'origen',\n",
       " 'Y',\n",
       " 'que',\n",
       " 'desaparezca',\n",
       " 'el',\n",
       " 'miedo',\n",
       " 'Que',\n",
       " 'empiece',\n",
       " 'la',\n",
       " 'parranda',\n",
       " 'El',\n",
       " 'jaleo',\n",
       " 'que',\n",
       " 'me',\n",
       " 'abraza',\n",
       " 'Olé',\n",
       " 'chiquilla',\n",
       " 'Este',\n",
       " 'compás',\n",
       " 'que',\n",
       " 'arrasa',\n",
       " 'Mi',\n",
       " 'danza',\n",
       " 'mi',\n",
       " 'danza',\n",
       " 'mi',\n",
       " 'danza',\n",
       " 'El',\n",
       " 'jaleo',\n",
       " 'que',\n",
       " 'me',\n",
       " 'abraza',\n",
       " 'Mi',\n",
       " 'danza',\n",
       " 'mi',\n",
       " 'danza',\n",
       " 'mi',\n",
       " 'danza',\n",
       " 'mi',\n",
       " 'danza',\n",
       " 'Deja',\n",
       " 'mis',\n",
       " 'semillas',\n",
       " 'brotar',\n",
       " 'brillar',\n",
       " 'Ya',\n",
       " 'no',\n",
       " 'soy',\n",
       " 'como',\n",
       " 'era',\n",
       " 'Abro',\n",
       " 'la',\n",
       " 'puerta',\n",
       " 'de',\n",
       " 'par',\n",
       " 'en',\n",
       " 'par',\n",
       " 'Cantaré',\n",
       " 'hasta',\n",
       " 'el',\n",
       " 'día',\n",
       " 'que',\n",
       " 'me',\n",
       " 'muera',\n",
       " 'Deja',\n",
       " 'que',\n",
       " 'me',\n",
       " 'salgan',\n",
       " 'alas',\n",
       " 'Déjame',\n",
       " 'volar',\n",
       " 'del',\n",
       " 'nido',\n",
       " 'Deja',\n",
       " 'que',\n",
       " 'vuelva',\n",
       " 'al',\n",
       " 'origen',\n",
       " 'Y',\n",
       " 'que',\n",
       " 'desaparezca',\n",
       " 'el',\n",
       " 'miedo',\n",
       " 'Que',\n",
       " 'empiece',\n",
       " 'la',\n",
       " 'parranda',\n",
       " 'El',\n",
       " 'jaleo',\n",
       " 'que',\n",
       " 'me',\n",
       " 'abraza',\n",
       " 'Olé',\n",
       " 'chiquilla',\n",
       " 'Este',\n",
       " 'compás',\n",
       " 'que',\n",
       " 'arrasa',\n",
       " 'Mi',\n",
       " 'danza',\n",
       " 'mi',\n",
       " 'danza',\n",
       " 'mi',\n",
       " 'danza',\n",
       " 'El',\n",
       " 'jaleo',\n",
       " 'que',\n",
       " 'me',\n",
       " 'abraza',\n",
       " 'Mi',\n",
       " 'danza',\n",
       " 'mi',\n",
       " 'danza',\n",
       " 'mi',\n",
       " 'danza',\n",
       " 'Quiero',\n",
       " 'volver',\n",
       " 'a',\n",
       " 'ver',\n",
       " 'Mi',\n",
       " 'piel',\n",
       " 'bailando',\n",
       " 'en',\n",
       " 'el',\n",
       " 'río',\n",
       " 'Déjame',\n",
       " 'vivir',\n",
       " 'sencilla',\n",
       " 'O',\n",
       " 'vete',\n",
       " 'por',\n",
       " 'donde',\n",
       " 'has',\n",
       " 'venido',\n",
       " 'Que',\n",
       " 'empiece',\n",
       " 'la',\n",
       " 'parranda',\n",
       " 'El',\n",
       " 'jaleo',\n",
       " 'que',\n",
       " 'me',\n",
       " 'abraza',\n",
       " 'Olé',\n",
       " 'chiquilla',\n",
       " 'Este',\n",
       " 'compás',\n",
       " 'que',\n",
       " 'arrasa',\n",
       " 'Mi',\n",
       " 'danza',\n",
       " 'mi',\n",
       " 'danza',\n",
       " 'mi',\n",
       " 'danza',\n",
       " 'El',\n",
       " 'jaleo',\n",
       " 'que',\n",
       " 'me',\n",
       " 'abraza',\n",
       " 'Mi',\n",
       " 'danza',\n",
       " 'mi',\n",
       " 'danza',\n",
       " 'mi',\n",
       " 'danza']"
      ]
     },
     "execution_count": 8,
     "metadata": {},
     "output_type": "execute_result"
    }
   ],
   "source": [
    "tokenizer = RegexpTokenizer(r'\\w+')\n",
    "tokens = tokenizer.tokenize(df.iloc[0]['lyrics'])\n",
    "tokens"
   ]
  },
  {
   "cell_type": "markdown",
   "id": "brazilian-defendant",
   "metadata": {},
   "source": [
    "#### Same but in a function"
   ]
  },
  {
   "cell_type": "code",
   "execution_count": 10,
   "id": "young-plastic",
   "metadata": {},
   "outputs": [],
   "source": [
    "def tokenize (string):\n",
    "    tokenizer = RegexpTokenizer(r'\\w+')\n",
    "    tokens = tokenizer.tokenize(string)\n",
    "    return tokens"
   ]
  },
  {
   "cell_type": "code",
   "execution_count": 11,
   "id": "decreased-breed",
   "metadata": {},
   "outputs": [
    {
     "data": {
      "text/html": [
       "<div>\n",
       "<style scoped>\n",
       "    .dataframe tbody tr th:only-of-type {\n",
       "        vertical-align: middle;\n",
       "    }\n",
       "\n",
       "    .dataframe tbody tr th {\n",
       "        vertical-align: top;\n",
       "    }\n",
       "\n",
       "    .dataframe thead th {\n",
       "        text-align: right;\n",
       "    }\n",
       "</style>\n",
       "<table border=\"1\" class=\"dataframe\">\n",
       "  <thead>\n",
       "    <tr style=\"text-align: right;\">\n",
       "      <th></th>\n",
       "      <th>ironhacker</th>\n",
       "      <th>song</th>\n",
       "      <th>artist</th>\n",
       "      <th>lyrics</th>\n",
       "    </tr>\n",
       "  </thead>\n",
       "  <tbody>\n",
       "    <tr>\n",
       "      <th>0</th>\n",
       "      <td>soyungalgo</td>\n",
       "      <td>Mi danza (feat. Dani de Morón)</td>\n",
       "      <td>Fuel Fandango</td>\n",
       "      <td>[Deja, que, la, vida, brote, Donde, menos, te,...</td>\n",
       "    </tr>\n",
       "    <tr>\n",
       "      <th>1</th>\n",
       "      <td>soyungalgo</td>\n",
       "      <td>MERICHANE</td>\n",
       "      <td>Zahara</td>\n",
       "      <td>[Yo, estaba, ahí, cuando, todos, bailaban, Moj...</td>\n",
       "    </tr>\n",
       "    <tr>\n",
       "      <th>2</th>\n",
       "      <td>toni085</td>\n",
       "      <td>Olaf el vikingo</td>\n",
       "      <td>LOS NIKIS</td>\n",
       "      <td>[Todos, en, la, tribu, le, tienen, miedo, Olaf...</td>\n",
       "    </tr>\n",
       "    <tr>\n",
       "      <th>3</th>\n",
       "      <td>ferqwertyuiop</td>\n",
       "      <td>So So</td>\n",
       "      <td>Rusowsky</td>\n",
       "      <td>[Fl, Fl, Flex, Lennon, Propose, a, toast, you,...</td>\n",
       "    </tr>\n",
       "    <tr>\n",
       "      <th>4</th>\n",
       "      <td>1182774545</td>\n",
       "      <td>WTF Is In My Cup</td>\n",
       "      <td>Chico Blanco</td>\n",
       "      <td>[What, the, fuck, is, in, my, cup, I, don, t, ...</td>\n",
       "    </tr>\n",
       "  </tbody>\n",
       "</table>\n",
       "</div>"
      ],
      "text/plain": [
       "      ironhacker                            song         artist  \\\n",
       "0     soyungalgo  Mi danza (feat. Dani de Morón)  Fuel Fandango   \n",
       "1     soyungalgo                       MERICHANE         Zahara   \n",
       "2        toni085                 Olaf el vikingo      LOS NIKIS   \n",
       "3  ferqwertyuiop                           So So       Rusowsky   \n",
       "4     1182774545                WTF Is In My Cup   Chico Blanco   \n",
       "\n",
       "                                              lyrics  \n",
       "0  [Deja, que, la, vida, brote, Donde, menos, te,...  \n",
       "1  [Yo, estaba, ahí, cuando, todos, bailaban, Moj...  \n",
       "2  [Todos, en, la, tribu, le, tienen, miedo, Olaf...  \n",
       "3  [Fl, Fl, Flex, Lennon, Propose, a, toast, you,...  \n",
       "4  [What, the, fuck, is, in, my, cup, I, don, t, ...  "
      ]
     },
     "execution_count": 11,
     "metadata": {},
     "output_type": "execute_result"
    }
   ],
   "source": [
    "df['lyrics'] = df['lyrics'].apply(tokenize)\n",
    "df.head()"
   ]
  },
  {
   "cell_type": "code",
   "execution_count": 12,
   "id": "waiting-chick",
   "metadata": {},
   "outputs": [
    {
     "data": {
      "text/html": [
       "<div>\n",
       "<style scoped>\n",
       "    .dataframe tbody tr th:only-of-type {\n",
       "        vertical-align: middle;\n",
       "    }\n",
       "\n",
       "    .dataframe tbody tr th {\n",
       "        vertical-align: top;\n",
       "    }\n",
       "\n",
       "    .dataframe thead th {\n",
       "        text-align: right;\n",
       "    }\n",
       "</style>\n",
       "<table border=\"1\" class=\"dataframe\">\n",
       "  <thead>\n",
       "    <tr style=\"text-align: right;\">\n",
       "      <th></th>\n",
       "      <th>ironhacker</th>\n",
       "      <th>song</th>\n",
       "      <th>artist</th>\n",
       "      <th>lyrics</th>\n",
       "    </tr>\n",
       "  </thead>\n",
       "  <tbody>\n",
       "    <tr>\n",
       "      <th>0</th>\n",
       "      <td>soyungalgo</td>\n",
       "      <td>Mi danza (feat. Dani de Morón)</td>\n",
       "      <td>Fuel Fandango</td>\n",
       "      <td>Deja que la vida brote Donde menos te lo esper...</td>\n",
       "    </tr>\n",
       "    <tr>\n",
       "      <th>1</th>\n",
       "      <td>soyungalgo</td>\n",
       "      <td>MERICHANE</td>\n",
       "      <td>Zahara</td>\n",
       "      <td>Yo estaba ahí cuando todos bailaban Mojaban el...</td>\n",
       "    </tr>\n",
       "    <tr>\n",
       "      <th>2</th>\n",
       "      <td>toni085</td>\n",
       "      <td>Olaf el vikingo</td>\n",
       "      <td>LOS NIKIS</td>\n",
       "      <td>Todos en la tribu le tienen miedo Olaf el viki...</td>\n",
       "    </tr>\n",
       "    <tr>\n",
       "      <th>3</th>\n",
       "      <td>ferqwertyuiop</td>\n",
       "      <td>So So</td>\n",
       "      <td>Rusowsky</td>\n",
       "      <td>Fl Fl Flex Lennon Propose a toast you know Mad...</td>\n",
       "    </tr>\n",
       "    <tr>\n",
       "      <th>4</th>\n",
       "      <td>1182774545</td>\n",
       "      <td>WTF Is In My Cup</td>\n",
       "      <td>Chico Blanco</td>\n",
       "      <td>What the fuck is in my cup I don t even know B...</td>\n",
       "    </tr>\n",
       "  </tbody>\n",
       "</table>\n",
       "</div>"
      ],
      "text/plain": [
       "      ironhacker                            song         artist  \\\n",
       "0     soyungalgo  Mi danza (feat. Dani de Morón)  Fuel Fandango   \n",
       "1     soyungalgo                       MERICHANE         Zahara   \n",
       "2        toni085                 Olaf el vikingo      LOS NIKIS   \n",
       "3  ferqwertyuiop                           So So       Rusowsky   \n",
       "4     1182774545                WTF Is In My Cup   Chico Blanco   \n",
       "\n",
       "                                              lyrics  \n",
       "0  Deja que la vida brote Donde menos te lo esper...  \n",
       "1  Yo estaba ahí cuando todos bailaban Mojaban el...  \n",
       "2  Todos en la tribu le tienen miedo Olaf el viki...  \n",
       "3  Fl Fl Flex Lennon Propose a toast you know Mad...  \n",
       "4  What the fuck is in my cup I don t even know B...  "
      ]
     },
     "execution_count": 12,
     "metadata": {},
     "output_type": "execute_result"
    }
   ],
   "source": [
    "df['lyrics'] = df['lyrics'].apply(lambda x: \" \".join(x))\n",
    "df.head()"
   ]
  },
  {
   "cell_type": "markdown",
   "id": "valued-compensation",
   "metadata": {},
   "source": [
    "## 3. Translating "
   ]
  },
  {
   "cell_type": "markdown",
   "id": "turned-alfred",
   "metadata": {},
   "source": [
    "### textblob"
   ]
  },
  {
   "cell_type": "markdown",
   "id": "intense-doubt",
   "metadata": {},
   "source": [
    "`language_1 = TextBlob(u'la_string')`<br>\n",
    "`language_2 = language_1.translate()`"
   ]
  },
  {
   "cell_type": "code",
   "execution_count": 13,
   "id": "robust-orleans",
   "metadata": {},
   "outputs": [
    {
     "data": {
      "text/plain": [
       "TextBlob(\"have a good day\")"
      ]
     },
     "execution_count": 13,
     "metadata": {},
     "output_type": "execute_result"
    }
   ],
   "source": [
    "#Translating\n",
    "spanish_string = TextBlob(u'que tengas buen buen day')\n",
    "english_blob=spanish_string.translate(from_lang='es',to='en')\n",
    "english_blob"
   ]
  },
  {
   "cell_type": "code",
   "execution_count": 15,
   "id": "present-strike",
   "metadata": {},
   "outputs": [],
   "source": [
    "def intoEnglish(string):\n",
    "    spanish_string = TextBlob(string)\n",
    "    try:\n",
    "        english_blob=spanish_string.translate(from_lang='es',to='en')\n",
    "        return \"\".join(list(english_blob))\n",
    "    except:\n",
    "        return string"
   ]
  },
  {
   "cell_type": "code",
   "execution_count": 16,
   "id": "banned-trout",
   "metadata": {},
   "outputs": [],
   "source": [
    "df['lyrics'] = df.lyrics.apply(intoEnglish)"
   ]
  },
  {
   "cell_type": "code",
   "execution_count": 17,
   "id": "explicit-syndication",
   "metadata": {},
   "outputs": [
    {
     "data": {
      "text/html": [
       "<div>\n",
       "<style scoped>\n",
       "    .dataframe tbody tr th:only-of-type {\n",
       "        vertical-align: middle;\n",
       "    }\n",
       "\n",
       "    .dataframe tbody tr th {\n",
       "        vertical-align: top;\n",
       "    }\n",
       "\n",
       "    .dataframe thead th {\n",
       "        text-align: right;\n",
       "    }\n",
       "</style>\n",
       "<table border=\"1\" class=\"dataframe\">\n",
       "  <thead>\n",
       "    <tr style=\"text-align: right;\">\n",
       "      <th></th>\n",
       "      <th>ironhacker</th>\n",
       "      <th>song</th>\n",
       "      <th>artist</th>\n",
       "      <th>lyrics</th>\n",
       "    </tr>\n",
       "  </thead>\n",
       "  <tbody>\n",
       "    <tr>\n",
       "      <th>0</th>\n",
       "      <td>soyungalgo</td>\n",
       "      <td>Mi danza (feat. Dani de Morón)</td>\n",
       "      <td>Fuel Fandango</td>\n",
       "      <td>Let life sprout Where you least expect it Let ...</td>\n",
       "    </tr>\n",
       "    <tr>\n",
       "      <th>1</th>\n",
       "      <td>soyungalgo</td>\n",
       "      <td>MERICHANE</td>\n",
       "      <td>Zahara</td>\n",
       "      <td>I was there when everyone was dancing They wet...</td>\n",
       "    </tr>\n",
       "    <tr>\n",
       "      <th>2</th>\n",
       "      <td>toni085</td>\n",
       "      <td>Olaf el vikingo</td>\n",
       "      <td>LOS NIKIS</td>\n",
       "      <td>Everyone in the tribe is afraid of him Olaf th...</td>\n",
       "    </tr>\n",
       "    <tr>\n",
       "      <th>3</th>\n",
       "      <td>ferqwertyuiop</td>\n",
       "      <td>So So</td>\n",
       "      <td>Rusowsky</td>\n",
       "      <td>Fl Fl Flex Lennon Propose a toast you know Mad...</td>\n",
       "    </tr>\n",
       "    <tr>\n",
       "      <th>4</th>\n",
       "      <td>1182774545</td>\n",
       "      <td>WTF Is In My Cup</td>\n",
       "      <td>Chico Blanco</td>\n",
       "      <td>What the fuck is in my cup I don t even know B...</td>\n",
       "    </tr>\n",
       "  </tbody>\n",
       "</table>\n",
       "</div>"
      ],
      "text/plain": [
       "      ironhacker                            song         artist  \\\n",
       "0     soyungalgo  Mi danza (feat. Dani de Morón)  Fuel Fandango   \n",
       "1     soyungalgo                       MERICHANE         Zahara   \n",
       "2        toni085                 Olaf el vikingo      LOS NIKIS   \n",
       "3  ferqwertyuiop                           So So       Rusowsky   \n",
       "4     1182774545                WTF Is In My Cup   Chico Blanco   \n",
       "\n",
       "                                              lyrics  \n",
       "0  Let life sprout Where you least expect it Let ...  \n",
       "1  I was there when everyone was dancing They wet...  \n",
       "2  Everyone in the tribe is afraid of him Olaf th...  \n",
       "3  Fl Fl Flex Lennon Propose a toast you know Mad...  \n",
       "4  What the fuck is in my cup I don t even know B...  "
      ]
     },
     "execution_count": 17,
     "metadata": {},
     "output_type": "execute_result"
    }
   ],
   "source": [
    "df.head()"
   ]
  },
  {
   "cell_type": "markdown",
   "id": "hearing-ethics",
   "metadata": {},
   "source": [
    "## 4. Stop words"
   ]
  },
  {
   "cell_type": "code",
   "execution_count": 18,
   "id": "italian-imaging",
   "metadata": {},
   "outputs": [
    {
     "name": "stderr",
     "output_type": "stream",
     "text": [
      "[nltk_data] Downloading package stopwords to\n",
      "[nltk_data]     /Users/breogann/nltk_data...\n",
      "[nltk_data]   Package stopwords is already up-to-date!\n"
     ]
    },
    {
     "data": {
      "text/plain": [
       "True"
      ]
     },
     "execution_count": 18,
     "metadata": {},
     "output_type": "execute_result"
    }
   ],
   "source": [
    "nltk.download('stopwords') #stopwords"
   ]
  },
  {
   "cell_type": "code",
   "execution_count": 19,
   "id": "oriented-belarus",
   "metadata": {},
   "outputs": [
    {
     "name": "stdout",
     "output_type": "stream",
     "text": [
      "{'we', 'too', 'of', 'couldn', 'doesn', 'who', 'having', 'just', 't', 'you', 'and', 'she', 'very', 'had', 'where', \"wouldn't\", \"needn't\", 'being', 'theirs', 'these', \"isn't\", 'down', 'myself', 'out', 'through', 'an', 'after', \"should've\", 'do', 'been', 'until', \"shouldn't\", 'to', 'won', 'her', 'are', 'only', 'd', \"mightn't\", \"you'll\", 'some', 'so', 'ma', 'himself', 'a', 'same', 'the', 'ourselves', 'this', 'or', 'again', 've', 'which', 'here', 'should', 'y', 'during', 'into', 'yours', 'most', 'while', 'll', 'as', 'over', 'has', 'can', 'on', 'yourself', 'did', \"mustn't\", \"doesn't\", \"she's\", 'me', 'that', 'wouldn', 'it', 'does', \"didn't\", 'herself', 'in', 'nor', 'hadn', 'at', 'each', 'didn', 'have', 'why', 'aren', \"shan't\", 'o', 'below', 'be', 'if', 'now', \"couldn't\", 'once', \"don't\", 'about', 're', 'any', \"aren't\", 'his', 'off', 'him', 'but', 'those', 'under', 'itself', 'up', 'hasn', 'mightn', \"it's\", 'whom', 'themselves', 'for', 'no', 'is', \"that'll\", 'not', 'my', 'hers', 'shouldn', 'wasn', 'shan', 'they', 'i', 'such', 'isn', 'both', 'than', 'all', 'by', \"won't\", 'what', 's', 'was', 'more', 'few', \"you'd\", 'further', \"you're\", \"wasn't\", 'from', 'when', 'don', 'weren', 'ours', 'against', 'before', 'their', 'our', 'there', \"weren't\", 'above', 'them', 'how', 'ain', 'other', \"you've\", 'will', 'were', \"hasn't\", \"hadn't\", 'haven', 'between', 'own', 'yourselves', 'with', 'am', 'its', 'your', 'because', 'he', 'doing', \"haven't\", 'needn', 'then', 'mustn', 'm'}\n"
     ]
    }
   ],
   "source": [
    "stop_words = set(stopwords.words('english'))\n",
    "print(stop_words)"
   ]
  },
  {
   "cell_type": "code",
   "execution_count": 21,
   "id": "naked-arlington",
   "metadata": {},
   "outputs": [],
   "source": [
    "df.lyrics = df.lyrics.apply(lambda x: x.split(\" \"))"
   ]
  },
  {
   "cell_type": "code",
   "execution_count": 22,
   "id": "sunset-humidity",
   "metadata": {},
   "outputs": [
    {
     "data": {
      "text/html": [
       "<div>\n",
       "<style scoped>\n",
       "    .dataframe tbody tr th:only-of-type {\n",
       "        vertical-align: middle;\n",
       "    }\n",
       "\n",
       "    .dataframe tbody tr th {\n",
       "        vertical-align: top;\n",
       "    }\n",
       "\n",
       "    .dataframe thead th {\n",
       "        text-align: right;\n",
       "    }\n",
       "</style>\n",
       "<table border=\"1\" class=\"dataframe\">\n",
       "  <thead>\n",
       "    <tr style=\"text-align: right;\">\n",
       "      <th></th>\n",
       "      <th>ironhacker</th>\n",
       "      <th>song</th>\n",
       "      <th>artist</th>\n",
       "      <th>lyrics</th>\n",
       "    </tr>\n",
       "  </thead>\n",
       "  <tbody>\n",
       "    <tr>\n",
       "      <th>0</th>\n",
       "      <td>soyungalgo</td>\n",
       "      <td>Mi danza (feat. Dani de Morón)</td>\n",
       "      <td>Fuel Fandango</td>\n",
       "      <td>[Let, life, sprout, Where, you, least, expect,...</td>\n",
       "    </tr>\n",
       "    <tr>\n",
       "      <th>1</th>\n",
       "      <td>soyungalgo</td>\n",
       "      <td>MERICHANE</td>\n",
       "      <td>Zahara</td>\n",
       "      <td>[I, was, there, when, everyone, was, dancing, ...</td>\n",
       "    </tr>\n",
       "    <tr>\n",
       "      <th>2</th>\n",
       "      <td>toni085</td>\n",
       "      <td>Olaf el vikingo</td>\n",
       "      <td>LOS NIKIS</td>\n",
       "      <td>[Everyone, in, the, tribe, is, afraid, of, him...</td>\n",
       "    </tr>\n",
       "    <tr>\n",
       "      <th>3</th>\n",
       "      <td>ferqwertyuiop</td>\n",
       "      <td>So So</td>\n",
       "      <td>Rusowsky</td>\n",
       "      <td>[Fl, Fl, Flex, Lennon, Propose, a, toast, you,...</td>\n",
       "    </tr>\n",
       "    <tr>\n",
       "      <th>4</th>\n",
       "      <td>1182774545</td>\n",
       "      <td>WTF Is In My Cup</td>\n",
       "      <td>Chico Blanco</td>\n",
       "      <td>[What, the, fuck, is, in, my, cup, I, don, t, ...</td>\n",
       "    </tr>\n",
       "  </tbody>\n",
       "</table>\n",
       "</div>"
      ],
      "text/plain": [
       "      ironhacker                            song         artist  \\\n",
       "0     soyungalgo  Mi danza (feat. Dani de Morón)  Fuel Fandango   \n",
       "1     soyungalgo                       MERICHANE         Zahara   \n",
       "2        toni085                 Olaf el vikingo      LOS NIKIS   \n",
       "3  ferqwertyuiop                           So So       Rusowsky   \n",
       "4     1182774545                WTF Is In My Cup   Chico Blanco   \n",
       "\n",
       "                                              lyrics  \n",
       "0  [Let, life, sprout, Where, you, least, expect,...  \n",
       "1  [I, was, there, when, everyone, was, dancing, ...  \n",
       "2  [Everyone, in, the, tribe, is, afraid, of, him...  \n",
       "3  [Fl, Fl, Flex, Lennon, Propose, a, toast, you,...  \n",
       "4  [What, the, fuck, is, in, my, cup, I, don, t, ...  "
      ]
     },
     "execution_count": 22,
     "metadata": {},
     "output_type": "execute_result"
    }
   ],
   "source": [
    "df.head()"
   ]
  },
  {
   "cell_type": "code",
   "execution_count": 23,
   "id": "necessary-peeing",
   "metadata": {},
   "outputs": [],
   "source": [
    "def stop_words (lista):\n",
    "    stop_words = set(stopwords.words('english'))\n",
    "    nueva_lista = []\n",
    "    for string in lista:\n",
    "        if string not in stop_words:\n",
    "            nueva_lista.append(string)\n",
    "    return \" \".join(nueva_lista)"
   ]
  },
  {
   "cell_type": "code",
   "execution_count": 25,
   "id": "greatest-bearing",
   "metadata": {},
   "outputs": [
    {
     "data": {
      "text/html": [
       "<div>\n",
       "<style scoped>\n",
       "    .dataframe tbody tr th:only-of-type {\n",
       "        vertical-align: middle;\n",
       "    }\n",
       "\n",
       "    .dataframe tbody tr th {\n",
       "        vertical-align: top;\n",
       "    }\n",
       "\n",
       "    .dataframe thead th {\n",
       "        text-align: right;\n",
       "    }\n",
       "</style>\n",
       "<table border=\"1\" class=\"dataframe\">\n",
       "  <thead>\n",
       "    <tr style=\"text-align: right;\">\n",
       "      <th></th>\n",
       "      <th>ironhacker</th>\n",
       "      <th>song</th>\n",
       "      <th>artist</th>\n",
       "      <th>lyrics</th>\n",
       "    </tr>\n",
       "  </thead>\n",
       "  <tbody>\n",
       "    <tr>\n",
       "      <th>0</th>\n",
       "      <td>soyungalgo</td>\n",
       "      <td>Mi danza (feat. Dani de Morón)</td>\n",
       "      <td>Fuel Fandango</td>\n",
       "      <td>Let life sprout Where least expect Let make wa...</td>\n",
       "    </tr>\n",
       "    <tr>\n",
       "      <th>1</th>\n",
       "      <td>soyungalgo</td>\n",
       "      <td>MERICHANE</td>\n",
       "      <td>Zahara</td>\n",
       "      <td>I everyone dancing They wet finger thought ete...</td>\n",
       "    </tr>\n",
       "    <tr>\n",
       "      <th>2</th>\n",
       "      <td>toni085</td>\n",
       "      <td>Olaf el vikingo</td>\n",
       "      <td>LOS NIKIS</td>\n",
       "      <td>Everyone tribe afraid Olaf Viking cold ice The...</td>\n",
       "    </tr>\n",
       "    <tr>\n",
       "      <th>3</th>\n",
       "      <td>ferqwertyuiop</td>\n",
       "      <td>So So</td>\n",
       "      <td>Rusowsky</td>\n",
       "      <td>Fl Fl Flex Lennon Propose toast know Made high...</td>\n",
       "    </tr>\n",
       "    <tr>\n",
       "      <th>4</th>\n",
       "      <td>1182774545</td>\n",
       "      <td>WTF Is In My Cup</td>\n",
       "      <td>Chico Blanco</td>\n",
       "      <td>What fuck cup I even know But I drink drink dr...</td>\n",
       "    </tr>\n",
       "  </tbody>\n",
       "</table>\n",
       "</div>"
      ],
      "text/plain": [
       "      ironhacker                            song         artist  \\\n",
       "0     soyungalgo  Mi danza (feat. Dani de Morón)  Fuel Fandango   \n",
       "1     soyungalgo                       MERICHANE         Zahara   \n",
       "2        toni085                 Olaf el vikingo      LOS NIKIS   \n",
       "3  ferqwertyuiop                           So So       Rusowsky   \n",
       "4     1182774545                WTF Is In My Cup   Chico Blanco   \n",
       "\n",
       "                                              lyrics  \n",
       "0  Let life sprout Where least expect Let make wa...  \n",
       "1  I everyone dancing They wet finger thought ete...  \n",
       "2  Everyone tribe afraid Olaf Viking cold ice The...  \n",
       "3  Fl Fl Flex Lennon Propose toast know Made high...  \n",
       "4  What fuck cup I even know But I drink drink dr...  "
      ]
     },
     "execution_count": 25,
     "metadata": {},
     "output_type": "execute_result"
    }
   ],
   "source": [
    "df.lyrics = df.lyrics.apply(stop_words)\n",
    "df.head()"
   ]
  },
  {
   "cell_type": "markdown",
   "id": "competitive-worker",
   "metadata": {},
   "source": [
    "## 5. Sentiment analysis"
   ]
  },
  {
   "cell_type": "markdown",
   "id": "included-mongolia",
   "metadata": {},
   "source": [
    "#### 5.1.1. Textblob"
   ]
  },
  {
   "cell_type": "markdown",
   "id": "cloudy-forth",
   "metadata": {},
   "source": [
    "`TextBlob(the_string).sentiment`"
   ]
  },
  {
   "cell_type": "markdown",
   "id": "broad-arbitration",
   "metadata": {},
   "source": [
    "**Args:** `string`<br>\n",
    "**Returns:** `polarity`& `subjectivity`"
   ]
  },
  {
   "cell_type": "code",
   "execution_count": 26,
   "id": "oriental-contribution",
   "metadata": {},
   "outputs": [],
   "source": [
    "the_string = \"i hate it here\""
   ]
  },
  {
   "cell_type": "code",
   "execution_count": 27,
   "id": "geographic-ceremony",
   "metadata": {},
   "outputs": [
    {
     "data": {
      "text/plain": [
       "Sentiment(polarity=-0.8, subjectivity=0.9)"
      ]
     },
     "execution_count": 27,
     "metadata": {},
     "output_type": "execute_result"
    }
   ],
   "source": [
    "blob = TextBlob(the_string)\n",
    "blob.sentiment"
   ]
  },
  {
   "cell_type": "markdown",
   "id": "usual-reasoning",
   "metadata": {},
   "source": [
    "#### 5.1.2. NLTK"
   ]
  },
  {
   "cell_type": "markdown",
   "id": "organic-stack",
   "metadata": {},
   "source": [
    "`sia.polarity_scores(the_string)`"
   ]
  },
  {
   "cell_type": "markdown",
   "id": "rocky-peripheral",
   "metadata": {},
   "source": [
    "**Args:** `string`<br>\n",
    "**Returns:** `polarity`"
   ]
  },
  {
   "cell_type": "code",
   "execution_count": 28,
   "id": "improving-calvin",
   "metadata": {},
   "outputs": [],
   "source": [
    "sia = SentimentIntensityAnalyzer()"
   ]
  },
  {
   "cell_type": "code",
   "execution_count": 29,
   "id": "friendly-brighton",
   "metadata": {},
   "outputs": [],
   "source": [
    "sentence = \"this is beautiful\""
   ]
  },
  {
   "cell_type": "code",
   "execution_count": 30,
   "id": "imperial-barbados",
   "metadata": {},
   "outputs": [],
   "source": [
    "polarity = sia.polarity_scores(sentence)"
   ]
  },
  {
   "cell_type": "code",
   "execution_count": 31,
   "id": "labeled-passport",
   "metadata": {},
   "outputs": [
    {
     "data": {
      "text/plain": [
       "{'neg': 0.0, 'neu': 0.339, 'pos': 0.661, 'compound': 0.5994}"
      ]
     },
     "execution_count": 31,
     "metadata": {},
     "output_type": "execute_result"
    }
   ],
   "source": [
    "polarity"
   ]
  },
  {
   "cell_type": "code",
   "execution_count": 32,
   "id": "naval-compatibility",
   "metadata": {},
   "outputs": [],
   "source": [
    "def sentimentAnalysis(sentence):\n",
    "    sia = SentimentIntensityAnalyzer()\n",
    "    polarity = sia.polarity_scores(sentence)\n",
    "    pol = polarity['compound']\n",
    "    return pol"
   ]
  },
  {
   "cell_type": "code",
   "execution_count": 33,
   "id": "intellectual-drill",
   "metadata": {},
   "outputs": [
    {
     "data": {
      "text/plain": [
       "0.5994"
      ]
     },
     "execution_count": 33,
     "metadata": {},
     "output_type": "execute_result"
    }
   ],
   "source": [
    "sentimentAnalysis(sentence)"
   ]
  },
  {
   "cell_type": "code",
   "execution_count": 34,
   "id": "lightweight-physiology",
   "metadata": {},
   "outputs": [
    {
     "data": {
      "text/html": [
       "<div>\n",
       "<style scoped>\n",
       "    .dataframe tbody tr th:only-of-type {\n",
       "        vertical-align: middle;\n",
       "    }\n",
       "\n",
       "    .dataframe tbody tr th {\n",
       "        vertical-align: top;\n",
       "    }\n",
       "\n",
       "    .dataframe thead th {\n",
       "        text-align: right;\n",
       "    }\n",
       "</style>\n",
       "<table border=\"1\" class=\"dataframe\">\n",
       "  <thead>\n",
       "    <tr style=\"text-align: right;\">\n",
       "      <th></th>\n",
       "      <th>ironhacker</th>\n",
       "      <th>song</th>\n",
       "      <th>artist</th>\n",
       "      <th>lyrics</th>\n",
       "      <th>sentiment_compound</th>\n",
       "    </tr>\n",
       "  </thead>\n",
       "  <tbody>\n",
       "    <tr>\n",
       "      <th>0</th>\n",
       "      <td>soyungalgo</td>\n",
       "      <td>Mi danza (feat. Dani de Morón)</td>\n",
       "      <td>Fuel Fandango</td>\n",
       "      <td>Let life sprout Where least expect Let make wa...</td>\n",
       "      <td>0.7506</td>\n",
       "    </tr>\n",
       "    <tr>\n",
       "      <th>1</th>\n",
       "      <td>soyungalgo</td>\n",
       "      <td>MERICHANE</td>\n",
       "      <td>Zahara</td>\n",
       "      <td>I everyone dancing They wet finger thought ete...</td>\n",
       "      <td>0.8275</td>\n",
       "    </tr>\n",
       "    <tr>\n",
       "      <th>2</th>\n",
       "      <td>toni085</td>\n",
       "      <td>Olaf el vikingo</td>\n",
       "      <td>LOS NIKIS</td>\n",
       "      <td>Everyone tribe afraid Olaf Viking cold ice The...</td>\n",
       "      <td>-0.9801</td>\n",
       "    </tr>\n",
       "    <tr>\n",
       "      <th>3</th>\n",
       "      <td>ferqwertyuiop</td>\n",
       "      <td>So So</td>\n",
       "      <td>Rusowsky</td>\n",
       "      <td>Fl Fl Flex Lennon Propose toast know Made high...</td>\n",
       "      <td>0.8670</td>\n",
       "    </tr>\n",
       "    <tr>\n",
       "      <th>4</th>\n",
       "      <td>1182774545</td>\n",
       "      <td>WTF Is In My Cup</td>\n",
       "      <td>Chico Blanco</td>\n",
       "      <td>What fuck cup I even know But I drink drink dr...</td>\n",
       "      <td>0.8316</td>\n",
       "    </tr>\n",
       "  </tbody>\n",
       "</table>\n",
       "</div>"
      ],
      "text/plain": [
       "      ironhacker                            song         artist  \\\n",
       "0     soyungalgo  Mi danza (feat. Dani de Morón)  Fuel Fandango   \n",
       "1     soyungalgo                       MERICHANE         Zahara   \n",
       "2        toni085                 Olaf el vikingo      LOS NIKIS   \n",
       "3  ferqwertyuiop                           So So       Rusowsky   \n",
       "4     1182774545                WTF Is In My Cup   Chico Blanco   \n",
       "\n",
       "                                              lyrics  sentiment_compound  \n",
       "0  Let life sprout Where least expect Let make wa...              0.7506  \n",
       "1  I everyone dancing They wet finger thought ete...              0.8275  \n",
       "2  Everyone tribe afraid Olaf Viking cold ice The...             -0.9801  \n",
       "3  Fl Fl Flex Lennon Propose toast know Made high...              0.8670  \n",
       "4  What fuck cup I even know But I drink drink dr...              0.8316  "
      ]
     },
     "execution_count": 34,
     "metadata": {},
     "output_type": "execute_result"
    }
   ],
   "source": [
    "df['sentiment_compound'] = df.lyrics.apply(sentimentAnalysis)\n",
    "df.head()"
   ]
  },
  {
   "cell_type": "markdown",
   "id": "fourth-playing",
   "metadata": {},
   "source": [
    "### Other libraries: 🇪🇸 sentiment_analysis"
   ]
  },
  {
   "cell_type": "code",
   "execution_count": 35,
   "id": "referenced-allowance",
   "metadata": {},
   "outputs": [
    {
     "name": "stdout",
     "output_type": "stream",
     "text": [
      "0.9304396176531412\n"
     ]
    },
    {
     "name": "stderr",
     "output_type": "stream",
     "text": [
      "/usr/local/lib/python3.9/site-packages/sklearn/base.py:310: UserWarning: Trying to unpickle estimator CountVectorizer from version 0.23.2 when using version 0.24.1. This might lead to breaking code or invalid results. Use at your own risk.\n",
      "  warnings.warn(\n",
      "/usr/local/lib/python3.9/site-packages/sklearn/base.py:310: UserWarning: Trying to unpickle estimator MultinomialNB from version 0.23.2 when using version 0.24.1. This might lead to breaking code or invalid results. Use at your own risk.\n",
      "  warnings.warn(\n"
     ]
    }
   ],
   "source": [
    "sentiment = sentiment_analysis.SentimentAnalysisSpanish()\n",
    "print(sentiment.sentiment(\"me gusta la tombola es genial\"))"
   ]
  },
  {
   "cell_type": "code",
   "execution_count": 36,
   "id": "still-shannon",
   "metadata": {},
   "outputs": [],
   "source": [
    "def sentiment_spanish(x):\n",
    "    return sentiment.sentiment(x)"
   ]
  },
  {
   "cell_type": "markdown",
   "id": "native-marketing",
   "metadata": {},
   "source": [
    "# 6. DF"
   ]
  },
  {
   "cell_type": "code",
   "execution_count": 38,
   "id": "sunset-disney",
   "metadata": {},
   "outputs": [
    {
     "data": {
      "text/html": [
       "<div>\n",
       "<style scoped>\n",
       "    .dataframe tbody tr th:only-of-type {\n",
       "        vertical-align: middle;\n",
       "    }\n",
       "\n",
       "    .dataframe tbody tr th {\n",
       "        vertical-align: top;\n",
       "    }\n",
       "\n",
       "    .dataframe thead th {\n",
       "        text-align: right;\n",
       "    }\n",
       "</style>\n",
       "<table border=\"1\" class=\"dataframe\">\n",
       "  <thead>\n",
       "    <tr style=\"text-align: right;\">\n",
       "      <th></th>\n",
       "      <th>ironhacker</th>\n",
       "      <th>song</th>\n",
       "      <th>artist</th>\n",
       "      <th>lyrics</th>\n",
       "      <th>sentiment_compound</th>\n",
       "    </tr>\n",
       "  </thead>\n",
       "  <tbody>\n",
       "    <tr>\n",
       "      <th>0</th>\n",
       "      <td>soyungalgo</td>\n",
       "      <td>Mi danza (feat. Dani de Morón)</td>\n",
       "      <td>Fuel Fandango</td>\n",
       "      <td>Let life sprout Where least expect Let make wa...</td>\n",
       "      <td>0.7506</td>\n",
       "    </tr>\n",
       "    <tr>\n",
       "      <th>1</th>\n",
       "      <td>soyungalgo</td>\n",
       "      <td>MERICHANE</td>\n",
       "      <td>Zahara</td>\n",
       "      <td>I everyone dancing They wet finger thought ete...</td>\n",
       "      <td>0.8275</td>\n",
       "    </tr>\n",
       "    <tr>\n",
       "      <th>2</th>\n",
       "      <td>toni085</td>\n",
       "      <td>Olaf el vikingo</td>\n",
       "      <td>LOS NIKIS</td>\n",
       "      <td>Everyone tribe afraid Olaf Viking cold ice The...</td>\n",
       "      <td>-0.9801</td>\n",
       "    </tr>\n",
       "    <tr>\n",
       "      <th>3</th>\n",
       "      <td>ferqwertyuiop</td>\n",
       "      <td>So So</td>\n",
       "      <td>Rusowsky</td>\n",
       "      <td>Fl Fl Flex Lennon Propose toast know Made high...</td>\n",
       "      <td>0.8670</td>\n",
       "    </tr>\n",
       "    <tr>\n",
       "      <th>4</th>\n",
       "      <td>1182774545</td>\n",
       "      <td>WTF Is In My Cup</td>\n",
       "      <td>Chico Blanco</td>\n",
       "      <td>What fuck cup I even know But I drink drink dr...</td>\n",
       "      <td>0.8316</td>\n",
       "    </tr>\n",
       "  </tbody>\n",
       "</table>\n",
       "</div>"
      ],
      "text/plain": [
       "      ironhacker                            song         artist  \\\n",
       "0     soyungalgo  Mi danza (feat. Dani de Morón)  Fuel Fandango   \n",
       "1     soyungalgo                       MERICHANE         Zahara   \n",
       "2        toni085                 Olaf el vikingo      LOS NIKIS   \n",
       "3  ferqwertyuiop                           So So       Rusowsky   \n",
       "4     1182774545                WTF Is In My Cup   Chico Blanco   \n",
       "\n",
       "                                              lyrics  sentiment_compound  \n",
       "0  Let life sprout Where least expect Let make wa...              0.7506  \n",
       "1  I everyone dancing They wet finger thought ete...              0.8275  \n",
       "2  Everyone tribe afraid Olaf Viking cold ice The...             -0.9801  \n",
       "3  Fl Fl Flex Lennon Propose toast know Made high...              0.8670  \n",
       "4  What fuck cup I even know But I drink drink dr...              0.8316  "
      ]
     },
     "execution_count": 38,
     "metadata": {},
     "output_type": "execute_result"
    }
   ],
   "source": [
    "df.head()"
   ]
  },
  {
   "cell_type": "code",
   "execution_count": 40,
   "id": "obvious-paraguay",
   "metadata": {},
   "outputs": [
    {
     "data": {
      "text/plain": [
       "1182774545       18\n",
       "toni085          10\n",
       "soyungalgo        5\n",
       "ferqwertyuiop     4\n",
       "1183037273        2\n",
       "pecmusasana       2\n",
       "copia002          1\n",
       "Name: ironhacker, dtype: int64"
      ]
     },
     "execution_count": 40,
     "metadata": {},
     "output_type": "execute_result"
    }
   ],
   "source": [
    "df.ironhacker.value_counts()"
   ]
  },
  {
   "cell_type": "code",
   "execution_count": 41,
   "id": "improved-finish",
   "metadata": {},
   "outputs": [
    {
     "data": {
      "text/plain": [
       "ironhacker\n",
       "1183037273      -0.002550\n",
       "copia002         0.263800\n",
       "toni085          0.277560\n",
       "1182774545       0.340994\n",
       "ferqwertyuiop    0.424450\n",
       "pecmusasana      0.499900\n",
       "soyungalgo       0.515560\n",
       "Name: sentiment_compound, dtype: float64"
      ]
     },
     "execution_count": 41,
     "metadata": {},
     "output_type": "execute_result"
    }
   ],
   "source": [
    "resumen = df.groupby(['ironhacker'])['sentiment_compound'].mean().sort_values()\n",
    "resumen"
   ]
  },
  {
   "cell_type": "code",
   "execution_count": 42,
   "id": "pregnant-lloyd",
   "metadata": {},
   "outputs": [
    {
     "data": {
      "text/plain": [
       "<AxesSubplot:xlabel='ironhacker'>"
      ]
     },
     "execution_count": 42,
     "metadata": {},
     "output_type": "execute_result"
    },
    {
     "data": {
      "image/png": "[encoded data removed]",
      "text/plain": [
       "<Figure size 432x288 with 1 Axes>"
      ]
     },
     "metadata": {
      "needs_background": "light"
     },
     "output_type": "display_data"
    }
   ],
   "source": [
    "resumen.plot(kind=\"bar\")"
   ]
  },
  {
   "cell_type": "markdown",
   "id": "retired-resource",
   "metadata": {},
   "source": [
    "# 📚 So far:\n",
    "\n",
    "**What we did**\n",
    "- Preliminary cleaning of the lyrics\n",
    "- Tokenized to keep just the words\n",
    "- Translated to remove stop words\n",
    "- Analyzed the sentiment\n",
    "<br>\n",
    "\n",
    "**To remember**\n",
    "\n",
    "- There's so much more you can do with this\n",
    "\n",
    "**Next steps**\n",
    "- Explore spacy\n",
    "- Explore frequency\n",
    "- Explore word clouds"
   ]
  }
 ],
 "metadata": {
  "kernelspec": {
   "display_name": "Python 3",
   "language": "python",
   "name": "python3"
  },
  "language_info": {
   "codemirror_mode": {
    "name": "ipython",
    "version": 3
   },
   "file_extension": ".py",
   "mimetype": "text/x-python",
   "name": "python",
   "nbconvert_exporter": "python",
   "pygments_lexer": "ipython3",
   "version": "3.9.1"
  }
 },
 "nbformat": 4,
 "nbformat_minor": 5
}
